{
 "cells": [
  {
   "cell_type": "markdown",
   "id": "10d84390-576e-45ea-a140-a54092c1691a",
   "metadata": {},
   "source": [
    "# Online Shop 2024 - Exploratory & Prescrpitive Analytics"
   ]
  },
  {
   "cell_type": "markdown",
   "id": "41a92bb1-882c-4445-960a-6ae4a3c0e9ef",
   "metadata": {},
   "source": [
    "![Header Image](LDO_banner_supplychaingrowth.jpg)\n"
   ]
  },
  {
   "cell_type": "markdown",
   "id": "343c4f54-d4eb-4355-9a23-ccd3558474cb",
   "metadata": {
    "jp-MarkdownHeadingCollapsed": true
   },
   "source": [
    "# Supplier Insights: Performance, Behaviour, and Risk Management\n",
    "\n",
    "For this machine learning (Clustering-Focused) data science analysis, we conducted three distinct analyses focused on supplier management:\n",
    "\n",
    "- **Supplier Performance Segmentation**  \n",
    "   *Clustering analysis based on performance metrics* (Lead Time, Total Spend, Spend Frequency, and Cost Variability).  \n",
    "   **Outcome:** Identification of three distinct supplier profiles, each paired with tailored strategic recommendations.\n",
    "\n",
    "- **Spend Behavior Analysis**  \n",
    "   *Clustering analysis to classify suppliers by spend patterns* to uncover procurement optimization opportunities.  \n",
    "   **Outcome:** Development of three supplier profiles based on spend behaviours, along with actionable insights to enhance cost efficiency.\n",
    "\n",
    "- **Supplier Risk Assessment**  \n",
    "   *Non-clustering analysis of shipping statuses* with an emphasis on cancelled transactions.  \n",
    "   **Outcome:** Categorization into Low, Medium, and High-risk profiles, accompanied by targeted risk mitigation strategies.\n",
    "\n",
    "Interactive Tableau Public visualizations (Bubble Chart, Bar Charts, Heatmap) are incorporated to complement the analysis and provide a high-level summary of key insights.\n",
    "\n",
    "We ensured alignment with enterprise objectives by consolidating analyses at the **enterprise level**. Supplier data from subdivisions was aggregated, providing a cohesive and strategic overview.\n",
    "\n",
    "**Dataset:** [Online Shop 2024](https://www.kaggle.com/datasets/marthadimgba/online-shop-2024)  \n",
    "\n",
    "**Composed by:** ilin3ccc.GITHUB\n"
   ]
  },
  {
   "cell_type": "markdown",
   "id": "3095f849-760d-4f99-84bf-cfceea59bf11",
   "metadata": {},
   "source": [
    "# Supplier Performance Segmentation "
   ]
  },
  {
   "cell_type": "markdown",
   "id": "bb402d10-c590-43dc-a77b-b68e8ec8c31f",
   "metadata": {},
   "source": [
    "### Stage 1: Setup\n",
    "\n",
    "We load all 8 csv files. "
   ]
  },
  {
   "cell_type": "code",
   "execution_count": 1,
   "id": "d235018e-7bce-49a3-9d5b-7593fbf03a8e",
   "metadata": {},
   "outputs": [],
   "source": [
    "import pandas as pd\n",
    "\n",
    "df_shipments = pd.read_csv(r\"shipments.csv\")\n",
    "df_orders = pd.read_csv(r\"orders.csv\")\n",
    "df_order_items = pd.read_csv(r\"order_items.csv\")\n",
    "df_products = pd.read_csv(r\"products.csv\")\n",
    "df_suppliers = pd.read_csv(r\"suppliers.csv\")\n",
    "df_customers = pd.read_csv(r\"customers.csv\")\n",
    "df_payments = pd.read_csv(r\"payments.csv\")\n",
    "df_reviews = pd.read_csv(r\"reviews.csv\")"
   ]
  },
  {
   "cell_type": "markdown",
   "id": "733f4bc4-0864-4b0a-8b67-64c3a7356116",
   "metadata": {},
   "source": [
    "### Stage 2: Data Wrangling\n",
    "\n",
    "We use indirect relationships to link df_shipments with df_suppliers:\n",
    "\n",
    "**df_shipments → df_orders → df_order_items → df_products → df_suppliers**"
   ]
  },
  {
   "cell_type": "code",
   "execution_count": 2,
   "id": "0446f7f7-f183-4482-aa55-98c7534de6d6",
   "metadata": {
    "scrolled": true
   },
   "outputs": [
    {
     "name": "stdout",
     "output_type": "stream",
     "text": [
      "Merged df_shipment_suppliers preview:\n",
      "   shipment_id  order_id shipment_date carrier tracking_number delivery_date  \\\n",
      "0            1         1    2024-10-13     UPS       TRK344284    2024-10-14   \n",
      "1            1         1    2024-10-13     UPS       TRK344284    2024-10-14   \n",
      "2            2         2    2024-08-27     DHL       TRK718398    2024-08-28   \n",
      "3            3         3    2024-05-23   FedEx       TRK161368    2024-05-31   \n",
      "4            4         4    2024-06-06     UPS       TRK890181    2024-06-10   \n",
      "\n",
      "  shipment_status  order_date  customer_id  total_price  ...  \\\n",
      "0         Pending  2024-10-10         8002       165.18  ...   \n",
      "1         Pending  2024-10-10         8002       165.18  ...   \n",
      "2       Delivered  2024-08-25         5097      8314.50  ...   \n",
      "3         Pending  2024-05-21         4670      1775.76  ...   \n",
      "4         Pending  2024-06-05         3875      3916.47  ...   \n",
      "\n",
      "   price_at_purchase     product_name        category   price supplier_id  \\\n",
      "0              96.99       4K Monitor     Electronics  389.19         596   \n",
      "1              22.73       4K Monitor     Electronics  389.19         596   \n",
      "2             831.45     Air Purifier  Home & Kitchen  840.99         534   \n",
      "3             295.96  Electric Kettle  Home & Kitchen  829.03         592   \n",
      "4             542.13     File Cabinet       Furniture  486.95         548   \n",
      "\n",
      "             supplier_name      contact_name  \\\n",
      "0      Unified Trading Co.  Melissa Victoria   \n",
      "1      Unified Trading Co.  Melissa Victoria   \n",
      "2  Modern Tech Enterprises     Michael Diana   \n",
      "3  Reliable Resources Inc.     Ashley Gerald   \n",
      "4         Advance Dynamics     Rebecca Roger   \n",
      "\n",
      "                            address    phone_number                   email  \n",
      "0    909 Dogwood Ln, Steel City, PA  (555) 038-3373  mvictoria@supplier.com  \n",
      "1    909 Dogwood Ln, Steel City, PA  (555) 038-3373  mvictoria@supplier.com  \n",
      "2  464 Mountain Dr, Shadow Vale, WY  (555) 123-9483     mdiana@supplier.com  \n",
      "3   919 Meadow Dr, Valley Falls, RI  (555) 643-4825    agerald@supplier.com  \n",
      "4  404 Birch Blvd, Central City, CO  (555) 726-6018     rroger@supplier.com  \n",
      "\n",
      "[5 rows x 23 columns]\n",
      "df_shipment_suppliers info:\n",
      "<class 'pandas.core.frame.DataFrame'>\n",
      "RangeIndex: 20000 entries, 0 to 19999\n",
      "Data columns (total 23 columns):\n",
      " #   Column             Non-Null Count  Dtype  \n",
      "---  ------             --------------  -----  \n",
      " 0   shipment_id        20000 non-null  int64  \n",
      " 1   order_id           20000 non-null  int64  \n",
      " 2   shipment_date      20000 non-null  object \n",
      " 3   carrier            20000 non-null  object \n",
      " 4   tracking_number    20000 non-null  object \n",
      " 5   delivery_date      20000 non-null  object \n",
      " 6   shipment_status    20000 non-null  object \n",
      " 7   order_date         20000 non-null  object \n",
      " 8   customer_id        20000 non-null  int64  \n",
      " 9   total_price        20000 non-null  float64\n",
      " 10  order_item_id      20000 non-null  int64  \n",
      " 11  product_id         20000 non-null  int64  \n",
      " 12  quantity           20000 non-null  int64  \n",
      " 13  price_at_purchase  20000 non-null  float64\n",
      " 14  product_name       20000 non-null  object \n",
      " 15  category           20000 non-null  object \n",
      " 16  price              20000 non-null  float64\n",
      " 17  supplier_id        20000 non-null  int64  \n",
      " 18  supplier_name      20000 non-null  object \n",
      " 19  contact_name       20000 non-null  object \n",
      " 20  address            20000 non-null  object \n",
      " 21  phone_number       20000 non-null  object \n",
      " 22  email              20000 non-null  object \n",
      "dtypes: float64(3), int64(7), object(13)\n",
      "memory usage: 3.5+ MB\n",
      "None\n"
     ]
    }
   ],
   "source": [
    "# Perform the merge by creating new dataframe: df_shipment_orders\n",
    "df_shipment_orders = pd.merge(df_shipments, df_orders, on=\"order_id\", how=\"inner\")\n",
    "\n",
    "# Perform the merge by creating a new dataframe: df_order_items_data\n",
    "df_order_items_data = pd.merge(df_shipment_orders, df_order_items, on=\"order_id\", how=\"inner\")\n",
    "\n",
    "# Perform the merge by creating a new dataframe: df_shipment_products\n",
    "df_shipment_products = pd.merge(df_order_items_data, df_products, on=\"product_id\", how=\"inner\")\n",
    "\n",
    "# Perform the merge by creating a new dataframe: df_shipment_suppliers\n",
    "df_shipment_suppliers = pd.merge(df_shipment_products, df_suppliers, on=\"supplier_id\", how=\"inner\")\n",
    "\n",
    "# Inspect the merged DataFrame\n",
    "print(\"Merged df_shipment_suppliers preview:\")\n",
    "print(df_shipment_suppliers.head())\n",
    "print(\"df_shipment_suppliers info:\")\n",
    "print(df_shipment_suppliers.info())\n"
   ]
  },
  {
   "cell_type": "markdown",
   "id": "dde02ed0-2d07-4eef-b275-98eb3b932738",
   "metadata": {},
   "source": [
    "### Stage 3: Metric Calculation at Sub-location Level\n",
    "\n",
    "In this stage, we calculate key performance metrics at the sub-location (`supplier_id`) level. These metrics provide foundational insights into supplier performance and will be used for enterprise-level aggregation later. \n",
    "\n",
    "#### Metrics to Calculate:\n",
    "1. **Lead Time**: Average number of days between shipment and delivery dates.\n",
    "2. **Total Spend**: Total monetary value spent per supplier.\n",
    "3. **Spend Frequency**: Number of unique orders linked to each supplier.\n",
    "4. **Cost Variability**: Standard deviation of total spend across all orders.\n"
   ]
  },
  {
   "cell_type": "code",
   "execution_count": 3,
   "id": "e9a90081-cfc7-4cbc-816a-9b3f9e3fb33e",
   "metadata": {},
   "outputs": [
    {
     "name": "stdout",
     "output_type": "stream",
     "text": [
      "Sub-location metrics preview:\n",
      "   supplier_id  avg_lead_time  total_supplier_quantity  spend_frequency  \\\n",
      "0          501       4.528205                      944              151   \n",
      "1          502       4.560606                      959              161   \n",
      "2          503       4.410000                      919              148   \n",
      "3          504       4.255814                      869              130   \n",
      "4          505       4.584158                      923              156   \n",
      "\n",
      "   cost_variability  \n",
      "0       2350.412723  \n",
      "1       2289.664946  \n",
      "2       2186.517498  \n",
      "3       2223.309716  \n",
      "4       2324.274162  \n"
     ]
    }
   ],
   "source": [
    "# convert shipment and delivery dates from string format to datetime format\n",
    "df_shipment_suppliers[\"delivery_date\"] = pd.to_datetime(df_shipment_suppliers[\"delivery_date\"])\n",
    "df_shipment_suppliers[\"shipment_date\"] = pd.to_datetime(df_shipment_suppliers[\"shipment_date\"])\n",
    "\n",
    "# Calculate lead time for each shipment\n",
    "df_shipment_suppliers[\"lead_time\"] = (\n",
    "    df_shipment_suppliers[\"delivery_date\"] - df_shipment_suppliers[\"shipment_date\"]\n",
    ").dt.days\n",
    "\n",
    "# Aggregate metrics at sub-location level\n",
    "df_sub_location_metrics = df_shipment_suppliers.groupby(\"supplier_id\").agg({\n",
    "    \"lead_time\": \"mean\",  # Average lead time\n",
    "    \"quantity\": \"sum\",  # Placeholder column for spend (calculated below)\n",
    "    \"order_id\": \"nunique\",  # Spend frequency\n",
    "}).reset_index()\n",
    "\n",
    "# Calculate total spend per order item (add total_spend column to df_shipment_suppliers)\n",
    "df_shipment_suppliers[\"total_spend\"] = (\n",
    "    df_shipment_suppliers[\"quantity\"] * df_shipment_suppliers[\"price_at_purchase\"]\n",
    ")\n",
    "\n",
    "# Calculate cost variability (standard deviation of spend per order, added to metrics)\n",
    "df_sub_location_metrics[\"cost_variability\"] = (\n",
    "    df_shipment_suppliers.groupby(\"supplier_id\")[\"total_spend\"].std().values\n",
    ")\n",
    "\n",
    "# Rename columns for clarity\n",
    "df_sub_location_metrics.rename(columns={\n",
    "    \"lead_time\": \"avg_lead_time\",\n",
    "    \"quantity\": \"total_supplier_quantity\",\n",
    "    \"order_id\": \"spend_frequency\"\n",
    "}, inplace=True)\n",
    "\n",
    "# Inspect the sub-location metrics\n",
    "print(\"Sub-location metrics preview:\")\n",
    "print(df_sub_location_metrics.head())\n"
   ]
  },
  {
   "cell_type": "markdown",
   "id": "0ad85f77-79f3-42af-bb20-63efeab27c93",
   "metadata": {},
   "source": [
    "### Stage 4: Transition to Enterprise-Level Aggregation\n",
    "\n",
    "In this stage, we transition from sub-location-level analysis (`supplier_id`) to enterprise-level analysis by consolidating all supplier sub-locations under their corresponding enterprise name (`supplier_name`). This allows us to analyze supplier performance holistically at the enterprise level.\n",
    "\n",
    "#### Process:\n",
    "1. Merge sub-location metrics with supplier names using the `supplier_id` key.\n",
    "2. Group sub-location metrics by `supplier_name`.\n",
    "3. Aggregate metrics (e.g., average lead time, total spend, spend frequency, and cost variability) at the enterprise level\n"
   ]
  },
  {
   "cell_type": "code",
   "execution_count": 4,
   "id": "1a311ca9-f9de-4d09-b1ba-80f26abdd811",
   "metadata": {},
   "outputs": [
    {
     "name": "stdout",
     "output_type": "stream",
     "text": [
      "Enterprise-level metrics preview:\n",
      "             supplier_name  avg_lead_time  total_supplier_quantity  \\\n",
      "0         Advance Dynamics       4.492698                     3503   \n",
      "1  Advanced Hardware Corp.       4.451783                     4081   \n",
      "2    Alpha Industries Ltd.       4.437184                     2696   \n",
      "3        Core Technologies       4.453479                     3895   \n",
      "4  Digital Innovations LLC       4.681909                     2827   \n",
      "\n",
      "   spend_frequency  cost_variability  \n",
      "0              565       2282.517333  \n",
      "1              638       2242.639129  \n",
      "2              437       2264.113083  \n",
      "3              617       2244.244499  \n",
      "4              447       2375.957628  \n"
     ]
    }
   ],
   "source": [
    "# Merge sub-location metrics with supplier names to add supplier_name\n",
    "df_sub_location_metrics = pd.merge(\n",
    "    df_sub_location_metrics, df_suppliers, on=\"supplier_id\", how=\"inner\"\n",
    ")\n",
    "\n",
    "# Aggregate metrics at the enterprise level by supplier_name\n",
    "df_enterprise_metrics = df_sub_location_metrics.groupby(\"supplier_name\").agg({\n",
    "    \"avg_lead_time\": \"mean\",  # Average lead time across all sub-locations\n",
    "    \"total_supplier_quantity\": \"sum\",  # Total quantity across all sub-locations\n",
    "    \"spend_frequency\": \"sum\",  # Total spend frequency across sub-locations\n",
    "    \"cost_variability\": \"mean\"  # Average cost variability across sub-locations\n",
    "}).reset_index()\n",
    "\n",
    "# Inspect the enterprise-level supplier metrics\n",
    "print(\"Enterprise-level metrics preview:\")\n",
    "print(df_enterprise_metrics.head())\n"
   ]
  },
  {
   "cell_type": "markdown",
   "id": "95b19256-170d-42b9-b250-268fd902c95e",
   "metadata": {},
   "source": [
    "### Stage 5: Normalizing Data for Clustering\n",
    "\n",
    "In this stage, we normalize the numerical columns in the enterprise-level metrics to ensure that all features contribute equally to the clustering analysis. Normalization scales the data, so that differences in feature magnitude (e.g., spend vs. lead time) do not bias the clustering results.\n",
    "\n",
    "#### Features to Normalize:\n",
    "- **Average Lead Time**\n",
    "- **Total Supplier Quantity**\n",
    "- **Spend Frequency**\n",
    "- **Cost Variability**"
   ]
  },
  {
   "cell_type": "code",
   "execution_count": 5,
   "id": "cb62e4cc-e8c1-48c0-866e-a1f480fb81e3",
   "metadata": {},
   "outputs": [
    {
     "name": "stdout",
     "output_type": "stream",
     "text": [
      "Normalized enterprise-level metrics preview:\n",
      "             supplier_name  avg_lead_time  total_supplier_quantity  \\\n",
      "0         Advance Dynamics      -0.184562                -0.184328   \n",
      "1  Advanced Hardware Corp.      -0.640576                 0.238456   \n",
      "2    Alpha Industries Ltd.      -0.803293                -0.774618   \n",
      "3        Core Technologies      -0.621680                 0.102405   \n",
      "4  Digital Innovations LLC       1.924263                -0.678796   \n",
      "\n",
      "   spend_frequency  cost_variability  \n",
      "0        -0.159482         -0.375310  \n",
      "1         0.173151         -1.029704  \n",
      "2        -0.742728         -0.677320  \n",
      "3         0.077462         -1.003360  \n",
      "4        -0.697162          1.158029  \n"
     ]
    }
   ],
   "source": [
    "from sklearn.preprocessing import StandardScaler\n",
    "\n",
    "# Define the columns to normalize\n",
    "columns_to_normalize = [\n",
    "    \"avg_lead_time\",\n",
    "    \"total_supplier_quantity\",\n",
    "    \"spend_frequency\",\n",
    "    \"cost_variability\"\n",
    "]\n",
    "\n",
    "# Normalize the specified columns\n",
    "scaler = StandardScaler()\n",
    "df_enterprise_metrics_normalized = df_enterprise_metrics.copy()\n",
    "df_enterprise_metrics_normalized[columns_to_normalize] = scaler.fit_transform(\n",
    "    df_enterprise_metrics[columns_to_normalize]\n",
    ")\n",
    "\n",
    "# Inspect normalized metrics\n",
    "print(\"Normalized enterprise-level metrics preview:\")\n",
    "print(df_enterprise_metrics_normalized.head())\n"
   ]
  },
  {
   "cell_type": "markdown",
   "id": "bfa42f02-6463-4d41-a99b-a58e83352dc2",
   "metadata": {},
   "source": [
    "### Stage 6: Clustering Analysis Using K-Means\n",
    "\n",
    "In this stage, we apply the K-Means clustering algorithm to divide suppliers into clusters based on their performance metrics. This segmentation helps us identify patterns and group behaviors among suppliers.\n",
    "(Note: Hierarchical clustering and DBSCAN had both been attempted as well, K-Means gave us the best results.) \n",
    "#### Process:\n",
    "1. Determine the number of clusters (3) based on domain knowledge or by experimenting with different values.\n",
    "2. Fit the K-Means model to the normalized enterprise-level metrics.\n",
    "3. Assign each supplier to a cluster.\n",
    "4. Evaluate clustering quality using the silhouette score."
   ]
  },
  {
   "cell_type": "code",
   "execution_count": 6,
   "id": "7a9b79db-2029-49e6-a35f-18908fc3596a",
   "metadata": {},
   "outputs": [
    {
     "name": "stdout",
     "output_type": "stream",
     "text": [
      "Cluster assignments preview:\n",
      "             supplier_name  cluster\n",
      "0         Advance Dynamics        0\n",
      "1  Advanced Hardware Corp.        0\n",
      "2    Alpha Industries Ltd.        0\n",
      "3        Core Technologies        0\n",
      "4  Digital Innovations LLC        2\n",
      "Silhouette Score for 3 clusters: 0.26215891191547025\n"
     ]
    }
   ],
   "source": [
    "from sklearn.cluster import KMeans\n",
    "from sklearn.metrics import silhouette_score\n",
    "\n",
    "# Define the number of clusters\n",
    "num_clusters = 3\n",
    "kmeans = KMeans(n_clusters=num_clusters, random_state=42)\n",
    "\n",
    "# Fit the K-Means model and assign clusters\n",
    "df_enterprise_metrics_normalized[\"cluster\"] = kmeans.fit_predict(\n",
    "    df_enterprise_metrics_normalized[\n",
    "        [\"avg_lead_time\", \"total_supplier_quantity\", \"spend_frequency\", \"cost_variability\"]\n",
    "    ]\n",
    ")\n",
    "\n",
    "# Inspect cluster assignments\n",
    "print(\"Cluster assignments preview:\")\n",
    "print(df_enterprise_metrics_normalized[[\"supplier_name\", \"cluster\"]].head())\n",
    "\n",
    "# Evaluate the clustering quality using the silhouette score\n",
    "silhouette_avg = silhouette_score(\n",
    "    df_enterprise_metrics_normalized[\n",
    "        [\"avg_lead_time\", \"total_supplier_quantity\", \"spend_frequency\", \"cost_variability\"]\n",
    "    ],\n",
    "    df_enterprise_metrics_normalized[\"cluster\"]\n",
    ")\n",
    "print(f\"Silhouette Score for {num_clusters} clusters: {silhouette_avg}\")\n"
   ]
  },
  {
   "cell_type": "markdown",
   "id": "5a9ed6ba-89f6-4d8e-a7a1-ad634a14a69a",
   "metadata": {},
   "source": [
    "### Stage 7: Cluster Profiles and Insights\n",
    "\n",
    "In this stage, we analyze the clusters created by the K-Means algorithm to understand the characteristics and behaviors of suppliers in each group. Profiling the clusters helps identify patterns, strengths, and improvement opportunities for supplier performance.\n",
    "\n",
    "#### Process:\n",
    "1. Group suppliers by their cluster assignments.\n",
    "2. Calculate the average metrics (e.g., lead time, spend, frequency, variability) for each cluster.\n",
    "3. Summarize the key traits and recommendations for each cluster."
   ]
  },
  {
   "cell_type": "code",
   "execution_count": 7,
   "id": "e2f22f75-e130-4365-a7e4-7362ba8d57e5",
   "metadata": {},
   "outputs": [
    {
     "name": "stdout",
     "output_type": "stream",
     "text": [
      "Suppliers by cluster:\n",
      "  cluster                                          suppliers\n",
      "0       A  [Advance Dynamics, Advanced Hardware Corp., Al...\n",
      "1       B  [Modern Tech Enterprises, Next Level Systems, ...\n",
      "2       C  [Digital Innovations LLC, Dynamic Systems Grou...\n",
      "Cluster profiles:\n",
      "  cluster  avg_lead_time  total_supplier_quantity  spend_frequency  \\\n",
      "0       A      -0.666182                -0.387967        -0.382300   \n",
      "1       B      -0.648772                 1.326579         1.330532   \n",
      "2       C       0.990567                -0.275322        -0.282966   \n",
      "\n",
      "   cost_variability  \n",
      "0         -0.697378  \n",
      "1          0.709231  \n",
      "2          0.342763  \n"
     ]
    }
   ],
   "source": [
    "# Group suppliers by their assigned cluster\n",
    "supplier_clusters = df_enterprise_metrics_normalized.groupby(\"cluster\")[\"supplier_name\"].apply(list).reset_index()\n",
    "supplier_clusters.rename(columns={\"supplier_name\": \"suppliers\"}, inplace=True)\n",
    "\n",
    "# Rename clusters\n",
    "supplier_clusters[\"cluster\"] = supplier_clusters[\"cluster\"].replace({0: \"A\", 1: \"B\", 2: \"C\"})\n",
    "\n",
    "# Inspect the suppliers in each cluster\n",
    "print(\"Suppliers by cluster:\")\n",
    "print(supplier_clusters)\n",
    "\n",
    "# Compute average metrics per cluster\n",
    "cluster_profiles = df_enterprise_metrics_normalized.groupby(\"cluster\")[\n",
    "    [\"avg_lead_time\", \"total_supplier_quantity\", \"spend_frequency\", \"cost_variability\"]\n",
    "].mean().reset_index()\n",
    "\n",
    "# Rename clusters in cluster_profiles as well\n",
    "cluster_profiles[\"cluster\"] = cluster_profiles[\"cluster\"].replace({0: \"A\", 1: \"B\", 2: \"C\"})\n",
    "\n",
    "# Inspect the cluster profiles\n",
    "print(\"Cluster profiles:\")\n",
    "print(cluster_profiles)\n"
   ]
  },
  {
   "cell_type": "markdown",
   "id": "70f3054a-1c44-48f5-a9bf-d35d7754017e",
   "metadata": {},
   "source": [
    "### Stage 8: Visualize Supplier Clusters Results\n",
    "We use Tableau (Public) to visualze results from clustering."
   ]
  },
  {
   "cell_type": "markdown",
   "id": "1a85349b-6cdd-4ed7-87f6-686c55de62ad",
   "metadata": {},
   "source": [
    "![Bubble Chart](Supplier_Performance_Segmentation_Clustering_Bubble.png)\n",
    "\n",
    "**[View Interactive Bubble Chart on Tableau Public](https://public.tableau.com/app/profile/ivan.lin5838/viz/SupplierPerformanceSegmentation-ClusteringBubble/Sheet1)**\n"
   ]
  },
  {
   "cell_type": "markdown",
   "id": "a3289ba1-7cb6-45ea-84a1-e2e5b4ae43e1",
   "metadata": {},
   "source": [
    "### Stage 9: Insights and Recommendations\n",
    "\n",
    "\n",
    "\n",
    "#### Cluster A: High-Spend Strategic Partners\n",
    "**Characteristics**:\n",
    "- **Avg Lead Time**: Slightly above average, indicating slower but consistent deliveries.\n",
    "- **Total Spend**: The highest among clusters, reflecting high-value transactions.\n",
    "- **Spend Frequency**: Moderate frequency, suggesting regular but not overly frequent orders.\n",
    "- **Cost Variability**: High, indicating diverse order sizes or fluctuating costs.\n",
    "\n",
    "**Key Insights**:\n",
    "Suppliers in this cluster are critical due to their significant spend contribution. However, they may require closer management to address lead time inefficiencies and cost fluctuations.\n",
    "\n",
    "**Strategic Recommendations**:\n",
    "- Address cost variability through long-term contracts or improved forecasting.\n",
    "- Negotiate better lead times for critical shipments to enhance efficiency.\n",
    "- Leverage their high-value transactions strategically while monitoring performance gaps.\n",
    "\n",
    "---\n",
    "\n",
    "#### Cluster B: Low-Impact, Stable Suppliers\n",
    "**Characteristics**:\n",
    "- **Avg Lead Time**: Close to average, providing consistent delivery times.\n",
    "- **Total Spend**: The lowest among clusters, reflecting minimal procurement contributions.\n",
    "- **Spend Frequency**: Infrequent, indicating limited engagement.\n",
    "- **Cost Variability**: Below average, showing stable but low-volume activity.\n",
    "\n",
    "**Key Insights**:\n",
    "These suppliers play a minor role in procurement, making them suitable for stable, low-priority needs without significant strategic value.\n",
    "\n",
    "**Strategic Recommendations**:\n",
    "- Evaluate their importance in the supply chain and consider replacing them with higher-impact suppliers if feasible.\n",
    "- Utilize them for stable, low-priority procurement needs where reliability is key.\n",
    "\n",
    "---\n",
    "\n",
    "#### Cluster C: Reliable, High-Frequency Suppliers\n",
    "**Characteristics**:\n",
    "- **Avg Lead Time**: Below average, highlighting quick and efficient deliveries.\n",
    "- **Total Spend**: Moderate, offering reasonable transaction value.\n",
    "- **Spend Frequency**: The highest among clusters, reflecting frequent engagement.\n",
    "- **Cost Variability**: Low, ensuring stable and predictable costs.\n",
    "\n",
    "**Key Insights**:\n",
    "These suppliers are ideal for operational reliability, frequently delivering with balanced spend profiles and consistent costs.\n",
    "\n",
    "**Strategic Recommendations**:\n",
    "- Strengthen partnerships to ensure continued reliability and frequent engagement.\n",
    "- Optimize procurement strategies to leverage their efficiency and predictability.\n"
   ]
  },
  {
   "cell_type": "markdown",
   "id": "27d238a1-329e-4bb0-aa76-6ef34fd7c985",
   "metadata": {},
   "source": [
    "# Spend Behavior Analysis"
   ]
  },
  {
   "cell_type": "markdown",
   "id": "5c072320-14ba-4268-b3e4-c87e6186d5cc",
   "metadata": {},
   "source": [
    "### Stage 1: Prepare Spend Analysis Data\n",
    "\n",
    "In this stage, we ensure that the spend analysis metrics are aggregated at the enterprise level. This involves recalculating the total supplier spend and spend frequency from the sub-location data and consolidating it under each supplier's enterprise name (`supplier_name`).\n",
    "\n",
    "#### Process:\n",
    "1. Regenerate total supplier spend (`enterprise_total_spend`) and spend frequency (`spend_frequency`) from sub-location data (`df_sub_location_metrics` and `df_shipment_suppliers`).\n",
    "2. Incorporate the metrics into `df_enterprise_metrics` to ensure they exist for the analysis.\n",
    "3. Extract relevant columns to create the spend analysis DataFrame (`df_spend_analysis`).\n",
    "4. Inspect the final spend analysis data for correctness."
   ]
  },
  {
   "cell_type": "code",
   "execution_count": 8,
   "id": "ed52d3bb-11bf-4538-9ee9-ecebfa2b6153",
   "metadata": {},
   "outputs": [
    {
     "name": "stdout",
     "output_type": "stream",
     "text": [
      "Spend analysis data preview:\n",
      "             supplier_name  total_supplier_spend  spend_frequency\n",
      "0         Advance Dynamics            1566490.22              565\n",
      "1  Advanced Hardware Corp.            1860465.68              638\n",
      "2    Alpha Industries Ltd.            1188836.65              437\n",
      "3        Core Technologies            1707564.46              617\n",
      "4  Digital Innovations LLC            1287539.56              447\n"
     ]
    }
   ],
   "source": [
    "# Regenerate enterprise-level metrics (total spend and spend frequency)\n",
    "df_enterprise_metrics = df_shipment_suppliers.groupby(\"supplier_name\").agg({\n",
    "    \"total_spend\": \"sum\",  # Aggregate total spend across sub-locations\n",
    "    \"order_id\": \"nunique\"  # Count unique transactions across sub-locations\n",
    "}).reset_index()\n",
    "\n",
    "# Rename columns for clarity\n",
    "df_enterprise_metrics.rename(columns={\n",
    "    \"total_spend\": \"enterprise_total_spend\",  # Total spend across all sub-locations\n",
    "    \"order_id\": \"spend_frequency\"  # Total frequency of transactions\n",
    "}, inplace=True)\n",
    "\n",
    "# Create the spend analysis DataFrame using relevant metrics\n",
    "df_spend_analysis = df_enterprise_metrics[[\"supplier_name\", \"enterprise_total_spend\", \"spend_frequency\"]].copy()\n",
    "\n",
    "# Rename columns for spend analysis clarity\n",
    "df_spend_analysis.rename(columns={\n",
    "    \"enterprise_total_spend\": \"total_supplier_spend\",\n",
    "    \"spend_frequency\": \"spend_frequency\"\n",
    "}, inplace=True)\n",
    "\n",
    "# Inspect the spend analysis DataFrame\n",
    "print(\"Spend analysis data preview:\")\n",
    "print(df_spend_analysis.head())\n"
   ]
  },
  {
   "cell_type": "markdown",
   "id": "20d6cbbe-6a39-4e31-88d2-039b654165c7",
   "metadata": {},
   "source": [
    "### Stage 2: Normalize Spend Metrics\n",
    "\n",
    "In this stage, we standardize the spend metrics for fair comparison during clustering. Normalization ensures that larger values (e.g., total spend) don't dominate smaller-scale metrics (e.g., spend frequency).\n",
    "\n",
    "#### Process:\n",
    "1. Normalize the columns **`total_supplier_spend`** and **`spend_frequency`** using StandardScaler.\n",
    "2. Create normalized columns **`normalized_spend`** and **`normalized_frequency`** in the spend analysis DataFrame.\n",
    "3. Inspect the normalized DataFrame to confirm scaling."
   ]
  },
  {
   "cell_type": "code",
   "execution_count": 9,
   "id": "83965983-f9e8-445f-a03f-5e13c58582e9",
   "metadata": {},
   "outputs": [
    {
     "name": "stdout",
     "output_type": "stream",
     "text": [
      "Normalized spend analysis data preview:\n",
      "             supplier_name  total_supplier_spend  spend_frequency  \\\n",
      "0         Advance Dynamics            1566490.22              565   \n",
      "1  Advanced Hardware Corp.            1860465.68              638   \n",
      "2    Alpha Industries Ltd.            1188836.65              437   \n",
      "3        Core Technologies            1707564.46              617   \n",
      "4  Digital Innovations LLC            1287539.56              447   \n",
      "\n",
      "   normalized_spend  normalized_frequency  \n",
      "0         -0.211214             -0.159482  \n",
      "1          0.254458              0.173151  \n",
      "2         -0.809437             -0.742728  \n",
      "3          0.012255              0.077462  \n",
      "4         -0.653086             -0.697162  \n"
     ]
    }
   ],
   "source": [
    "from sklearn.preprocessing import StandardScaler\n",
    "\n",
    "# Initialize StandardScaler\n",
    "scaler = StandardScaler()\n",
    "\n",
    "# Normalize spend metrics\n",
    "df_spend_analysis_normalized = df_spend_analysis.copy()\n",
    "df_spend_analysis_normalized[[\"normalized_spend\", \"normalized_frequency\"]] = scaler.fit_transform(\n",
    "    df_spend_analysis[[\"total_supplier_spend\", \"spend_frequency\"]]\n",
    ")\n",
    "\n",
    "# Inspect normalized spend analysis data\n",
    "print(\"Normalized spend analysis data preview:\")\n",
    "print(df_spend_analysis_normalized.head())\n"
   ]
  },
  {
   "cell_type": "markdown",
   "id": "2d3b83f7-5c1a-4b32-a414-e56705f13682",
   "metadata": {},
   "source": [
    "### Stage 3: Apply K-Means Clustering\n",
    "\n",
    "In this stage, we use the K-Means clustering algorithm to group suppliers into distinct clusters based on their normalized spend metrics. Additionally, we evaluate clustering performance using the silhouette score to ensure quality segmentation.\n",
    "\n",
    "#### Process:\n",
    "1. Define the number of clusters (3).\n",
    "2. Fit the K-Means model to the normalized spend metrics (`normalized_spend` and `normalized_frequency`).\n",
    "3. Assign cluster labels to each supplier.\n",
    "4. Evaluate clustering performance with the silhouette score."
   ]
  },
  {
   "cell_type": "code",
   "execution_count": 10,
   "id": "de3ee559-d8f6-4eda-9f8b-48c7741d8017",
   "metadata": {},
   "outputs": [
    {
     "name": "stdout",
     "output_type": "stream",
     "text": [
      "Silhouette Score for Spend Analysis: 0.5356212338443812\n",
      "Spend cluster assignments preview:\n",
      "             supplier_name  total_supplier_spend  spend_frequency  \\\n",
      "0         Advance Dynamics            1566490.22              565   \n",
      "1  Advanced Hardware Corp.            1860465.68              638   \n",
      "2    Alpha Industries Ltd.            1188836.65              437   \n",
      "3        Core Technologies            1707564.46              617   \n",
      "4  Digital Innovations LLC            1287539.56              447   \n",
      "\n",
      "   spend_cluster  \n",
      "0              2  \n",
      "1              2  \n",
      "2              0  \n",
      "3              2  \n",
      "4              0  \n"
     ]
    }
   ],
   "source": [
    "from sklearn.cluster import KMeans\n",
    "from sklearn.metrics import silhouette_score\n",
    "\n",
    "# Set the number of clusters\n",
    "num_clusters = 3\n",
    "kmeans = KMeans(n_clusters=num_clusters, random_state=42)\n",
    "\n",
    "# Apply K-Means clustering and assign cluster labels\n",
    "df_spend_analysis_normalized[\"spend_cluster\"] = kmeans.fit_predict(\n",
    "    df_spend_analysis_normalized[[\"normalized_spend\", \"normalized_frequency\"]]\n",
    ")\n",
    "\n",
    "# Evaluate clustering performance with silhouette score\n",
    "silhouette_spend = silhouette_score(\n",
    "    df_spend_analysis_normalized[[\"normalized_spend\", \"normalized_frequency\"]],\n",
    "    df_spend_analysis_normalized[\"spend_cluster\"]\n",
    ")\n",
    "print(f\"Silhouette Score for Spend Analysis: {silhouette_spend}\")\n",
    "\n",
    "# Inspect the clustering assignments\n",
    "print(\"Spend cluster assignments preview:\")\n",
    "print(df_spend_analysis_normalized[[\"supplier_name\", \"total_supplier_spend\", \"spend_frequency\", \"spend_cluster\"]].head())\n"
   ]
  },
  {
   "cell_type": "markdown",
   "id": "93b178d3-69f9-4148-ad24-70e7e4208970",
   "metadata": {},
   "source": [
    "### Stage 4: Profile Spend Clusters\n",
    "\n",
    "In this stage, we analyze the characteristics of each spend cluster. By computing average metrics and contributions, we gain deeper insights into supplier behavior, enabling more targeted procurement strategies.\n",
    "\n",
    "#### Metrics for Each Cluster:\n",
    "1. **Average Total Spend**: Mean spend of suppliers in the cluster.\n",
    "2. **Average Spend Frequency**: Mean number of transactions per supplier in the cluster.\n",
    "3. **Total Spend Contribution**: Percentage of total spend attributed to the cluster.\n",
    "4. **Supplier Count**: Number of suppliers in the cluster.\n",
    "5. **Supplier Percentage**: Proportion of suppliers represented in the cluster."
   ]
  },
  {
   "cell_type": "code",
   "execution_count": 11,
   "id": "f6b78ce9-09bd-445b-b9b8-9ffb2db3be1d",
   "metadata": {},
   "outputs": [
    {
     "name": "stdout",
     "output_type": "stream",
     "text": [
      "Enhanced spend cluster profiles:\n",
      "  spend_cluster  avg_total_spend  avg_spend_frequency  total_spend  \\\n",
      "0             A     1.118739e+06           399.300000  11187385.34   \n",
      "1             B     2.440091e+06           855.750000  19520725.47   \n",
      "2             C     1.683942e+06           594.428571  11787594.00   \n",
      "\n",
      "   supplier_count  spend_percentage  supplier_percentage  \n",
      "0              10         26.325920                 40.0  \n",
      "1               8         45.935761                 32.0  \n",
      "2               7         27.738319                 28.0  \n"
     ]
    }
   ],
   "source": [
    "# Profile spend clusters\n",
    "spend_cluster_profiles = df_spend_analysis_normalized.groupby(\"spend_cluster\").agg(\n",
    "    avg_total_spend=(\"total_supplier_spend\", \"mean\"),\n",
    "    avg_spend_frequency=(\"spend_frequency\", \"mean\"),\n",
    "    total_spend=(\"total_supplier_spend\", \"sum\"),\n",
    "    supplier_count=(\"supplier_name\", \"count\")  # Using enterprise-level supplier_name\n",
    ").reset_index()\n",
    "\n",
    "# Rename clusters\n",
    "spend_cluster_profiles[\"spend_cluster\"] = spend_cluster_profiles[\"spend_cluster\"].replace({0: \"A\", 1: \"B\", 2: \"C\"})\n",
    "\n",
    "# Calculate percentage contributions\n",
    "total_spend_all = df_spend_analysis_normalized[\"total_supplier_spend\"].sum()\n",
    "spend_cluster_profiles[\"spend_percentage\"] = (spend_cluster_profiles[\"total_spend\"] / total_spend_all) * 100\n",
    "spend_cluster_profiles[\"supplier_percentage\"] = (\n",
    "    (spend_cluster_profiles[\"supplier_count\"] / df_spend_analysis_normalized[\"supplier_name\"].nunique()) * 100\n",
    ")\n",
    "\n",
    "# Inspect enhanced spend cluster profiles\n",
    "print(\"Enhanced spend cluster profiles:\")\n",
    "print(spend_cluster_profiles)\n"
   ]
  },
  {
   "cell_type": "markdown",
   "id": "958c85fe-4adb-44f1-9cb1-4fff0d5774e0",
   "metadata": {},
   "source": [
    "### Stage 5: Visualize Spend Clusters Results\n",
    "We create a dashboard on Tableau (Public) to visualze results from clustering. "
   ]
  },
  {
   "cell_type": "markdown",
   "id": "ad06cc77-5be3-4d5a-9418-8047f698a058",
   "metadata": {},
   "source": [
    "![Dashboard Barcharts](Spend_Behaviour_Analysis_Bartcharts.png)\n",
    "\n",
    "**[View Interactive Bar Charts on Tableau Public](https://public.tableau.com/app/profile/ivan.lin5838/viz/SpendBehaviourAnalysis-BarGraphs/Dashboard1)**"
   ]
  },
  {
   "cell_type": "markdown",
   "id": "272598b0-dc64-4098-a296-0c7efb1f7ea8",
   "metadata": {},
   "source": [
    "### Stage 6: Cluster Profiles and Recommendations\n",
    "\n",
    "In this stage, we interpret the spend cluster profiles and offer actionable recommendations for procurement strategy. Each cluster represents a unique group of suppliers with distinct behaviors and contributions to the overall spend.\n",
    "\n",
    "#### Cluster Profiles:\n",
    "\n",
    "**Cluster A: Moderate-Spend Reliable Suppliers**\n",
    "- **Characteristics**:\n",
    "  - Average Total Spend: Moderate spend per supplier.\n",
    "  - Spend Frequency: Regular and steady transaction activity.\n",
    "  - Spend Contribution: Accounts for ~26% of the overall spend.\n",
    "  - Supplier Count: Includes the largest group of suppliers (40% of total suppliers).\n",
    "\n",
    "- **Insights**:\n",
    "  - Suitable for stable procurement needs.\n",
    "  - Monitor for opportunities to optimize efficiency without disrupting reliability.\n",
    "\n",
    "---\n",
    "\n",
    "**Cluster B: Strategic High-Spend Suppliers**\n",
    "- **Characteristics**:\n",
    "  - Average Total Spend: The highest spend per supplier.\n",
    "  - Spend Frequency: Frequent transactions, reflecting high engagement.\n",
    "  - Spend Contribution: Largest spend contribution at ~46%.\n",
    "  - Supplier Count: Represents a significant but smaller portion of suppliers (32%).\n",
    "\n",
    "- **Insights**:\n",
    "  - Critical to procurement operations—prioritize these suppliers for strategic partnerships.\n",
    "  - Negotiate cost-saving measures to maximize returns on high-value transactions.\n",
    "  - Monitor risks to prevent operational disruptions.\n",
    "\n",
    "---\n",
    "\n",
    "**Cluster C: Niche Moderate Suppliers**\n",
    "- **Characteristics**:\n",
    "  - Average Total Spend: Moderate spend per supplier.\n",
    "  - Spend Frequency: Balanced engagement with a steady volume of transactions.\n",
    "  - Spend Contribution: Contributes ~28% of the overall spend.\n",
    "  - Supplier Count: Represents a smaller portion of suppliers (28%).\n",
    "\n",
    "- **Insights**:\n",
    "  - These suppliers might cater to niche or specialized needs—evaluate their strategic value.\n",
    "  - Explore opportunities to consolidate or streamline suppliers in this cluster.\n",
    "\n",
    "---\n",
    "\n",
    "#### Strategic Recommendations:\n",
    "1. **Cluster A**: Focus on operational efficiency while maintaining supplier reliability.\n",
    "2. **Cluster B**: Strengthen partnerships and negotiate long-term contracts for cost savings.\n",
    "3. **Cluster C**: Streamline suppliers to reduce complexity while preserving niche roles.\n"
   ]
  },
  {
   "cell_type": "markdown",
   "id": "29a0bc6e-0f74-49d9-bcaa-db07c2603527",
   "metadata": {},
   "source": [
    "# Supplier Risk Assessment"
   ]
  },
  {
   "cell_type": "markdown",
   "id": "36637514-eb10-4fb2-8e29-92022211f56f",
   "metadata": {},
   "source": [
    "### Stage 1: Identify Failed Transactions\n",
    "\n",
    "In this stage, we extract data for failed (cancelled) transactions from the enterprise-level supplier data. This step forms the foundation for the risk analysis by identifying suppliers with a history of transaction failures.\n",
    "\n",
    "#### Process:\n",
    "1. Filter `df_shipment_suppliers` for transactions with a \"Cancelled\" shipment status.\n",
    "2. Count the number of failed transactions per supplier at the enterprise level (`supplier_name`).\n",
    "3. Inspect the results to ensure accuracy and completeness."
   ]
  },
  {
   "cell_type": "code",
   "execution_count": 12,
   "id": "c9bc481d-529f-4396-9347-d587fc0d0d77",
   "metadata": {},
   "outputs": [
    {
     "name": "stdout",
     "output_type": "stream",
     "text": [
      "Cancelled transactions per supplier (enterprise level):\n",
      "             supplier_name  failed_transactions\n",
      "0         Advance Dynamics                   36\n",
      "1  Advanced Hardware Corp.                   42\n",
      "2    Alpha Industries Ltd.                   23\n",
      "3        Core Technologies                   53\n",
      "4  Digital Innovations LLC                   42\n"
     ]
    }
   ],
   "source": [
    "# Filter for failed (cancelled) transactions\n",
    "failed_transactions = df_shipment_suppliers[df_shipment_suppliers[\"shipment_status\"] == \"Cancelled\"]\n",
    "\n",
    "# Count the number of cancelled transactions per supplier at the enterprise level\n",
    "df_failed = failed_transactions.groupby(\"supplier_name\").size().reset_index(name=\"failed_transactions\")\n",
    "\n",
    "# Inspect the results\n",
    "print(\"Cancelled transactions per supplier (enterprise level):\")\n",
    "print(df_failed.head())\n"
   ]
  },
  {
   "cell_type": "markdown",
   "id": "908562b3-abb5-43a9-adb8-97133ac17bf0",
   "metadata": {},
   "source": [
    "### Stage 2: Calculate Failure Metrics\n",
    "\n",
    "In this stage, we calculate failure metrics to quantify the percentage of transactions that failed for each supplier. This is a crucial step in identifying potential risks and unreliability among suppliers.\n",
    "\n",
    "#### Process:\n",
    "1. Calculate the total number of transactions per supplier at the enterprise level.\n",
    "2. Merge the failed transactions with total transactions for each supplier.\n",
    "3. Handle missing values (e.g., suppliers with zero failed transactions).\n",
    "4. Compute failure percentage for each supplier."
   ]
  },
  {
   "cell_type": "code",
   "execution_count": 13,
   "id": "b34d6e82-7b75-4972-9e4b-b173dd685d1b",
   "metadata": {},
   "outputs": [
    {
     "name": "stdout",
     "output_type": "stream",
     "text": [
      "Failure metrics per supplier (enterprise level):\n",
      "             supplier_name  failed_transactions  total_transactions  \\\n",
      "0         Advance Dynamics                   36                 766   \n",
      "1  Advanced Hardware Corp.                   42                 857   \n",
      "2    Alpha Industries Ltd.                   23                 590   \n",
      "3        Core Technologies                   53                 845   \n",
      "4  Digital Innovations LLC                   42                 589   \n",
      "\n",
      "   failure_percentage  \n",
      "0            4.699739  \n",
      "1            4.900817  \n",
      "2            3.898305  \n",
      "3            6.272189  \n",
      "4            7.130730  \n"
     ]
    }
   ],
   "source": [
    "# Calculate the total number of transactions per supplier at the enterprise level\n",
    "df_total_transactions = df_shipment_suppliers.groupby(\"supplier_name\").size().reset_index(name=\"total_transactions\")\n",
    "\n",
    "# Merge failed transactions with total transactions\n",
    "df_risk_analysis = df_failed.merge(df_total_transactions, on=\"supplier_name\", how=\"right\")\n",
    "\n",
    "# Handle NaN values in failed transactions\n",
    "df_risk_analysis[\"failed_transactions\"] = df_risk_analysis[\"failed_transactions\"].fillna(0)\n",
    "\n",
    "# Calculate failure percentage\n",
    "df_risk_analysis[\"failure_percentage\"] = (\n",
    "    df_risk_analysis[\"failed_transactions\"] / df_risk_analysis[\"total_transactions\"]\n",
    ") * 100\n",
    "\n",
    "# Inspect the results\n",
    "print(\"Failure metrics per supplier (enterprise level):\")\n",
    "print(df_risk_analysis.head())\n"
   ]
  },
  {
   "cell_type": "markdown",
   "id": "d2d4c591-2603-40d4-b4ec-950e51b0af6d",
   "metadata": {},
   "source": [
    "### Stage 3: Filter High-Risk Suppliers\n",
    "\n",
    "In this stage, we identify high-risk suppliers based on their failure percentages. Suppliers exceeding a defined threshold are flagged as high-risk, allowing for focused analysis and intervention.\n",
    "\n",
    "#### Process:\n",
    "1. Define a failure percentage threshold to classify suppliers as high-risk.\n",
    "2. Filter for suppliers whose failure percentage exceeds the threshold.\n",
    "3. Inspect and rank the high-risk suppliers for further analysis."
   ]
  },
  {
   "cell_type": "code",
   "execution_count": 14,
   "id": "e23855df-6a92-4818-aa11-9a282c86cfc9",
   "metadata": {},
   "outputs": [
    {
     "name": "stdout",
     "output_type": "stream",
     "text": [
      "High-risk suppliers based on failure percentage:\n",
      "                supplier_name  failed_transactions  total_transactions  \\\n",
      "4     Digital Innovations LLC                   42                 589   \n",
      "3           Core Technologies                   53                 845   \n",
      "8                 Future Tech                   37                 595   \n",
      "16  Professional Supply Chain                   34                 566   \n",
      "21     Summit Solutions Corp.                   36                 634   \n",
      "11             Mega Suppliers                   54                 978   \n",
      "7    Excel Distribution Group                   44                 807   \n",
      "5       Dynamic Systems Group                   41                 766   \n",
      "22         Tech Supplies Inc.                   38                 724   \n",
      "13         Next Level Systems                   82                1624   \n",
      "14    Precision Suppliers LLC                   52                1038   \n",
      "\n",
      "    failure_percentage  \n",
      "4             7.130730  \n",
      "3             6.272189  \n",
      "8             6.218487  \n",
      "16            6.007067  \n",
      "21            5.678233  \n",
      "11            5.521472  \n",
      "7             5.452292  \n",
      "5             5.352480  \n",
      "22            5.248619  \n",
      "13            5.049261  \n",
      "14            5.009634  \n"
     ]
    }
   ],
   "source": [
    "# Define the failure percentage threshold for high-risk suppliers\n",
    "failure_threshold = 5.0  # Suppliers with >5% failure are considered high-risk\n",
    "\n",
    "# Filter for high-risk suppliers\n",
    "high_risk_suppliers = df_risk_analysis[df_risk_analysis[\"failure_percentage\"] > failure_threshold]\n",
    "\n",
    "# Inspect high-risk suppliers\n",
    "print(\"High-risk suppliers based on failure percentage:\")\n",
    "print(high_risk_suppliers.sort_values(by=\"failure_percentage\", ascending=False))\n"
   ]
  },
  {
   "cell_type": "markdown",
   "id": "736cfee1-7077-4b7a-9cd7-c427e9b0f620",
   "metadata": {},
   "source": [
    "### Stage 4: Aggregate Metrics at Enterprise Level\n",
    "\n",
    "In this stage, we ensure that the risk metrics are aggregated for enterprise-level suppliers (`supplier_name`). This helps create a unified view of supplier risk by consolidating data across sub-locations where necessary.\n",
    "\n",
    "#### Process:\n",
    "1. Replace supplier IDs with supplier names to reflect enterprise-level identifiers.\n",
    "2. Aggregate metrics (e.g., `failed_transactions` and `total_transactions`) for suppliers with multiple sub-locations.\n",
    "3. Calculate the failure percentage for consolidated suppliers.\n",
    "4. Inspect the consolidated risk metrics for accuracy."
   ]
  },
  {
   "cell_type": "code",
   "execution_count": 15,
   "id": "84a0b671-3ea4-43dc-b09c-1158ab615ae8",
   "metadata": {},
   "outputs": [
    {
     "name": "stdout",
     "output_type": "stream",
     "text": [
      "Consolidated supplier-level risk metrics:\n",
      "             supplier_name  failed_transactions  total_transactions  \\\n",
      "0         Advance Dynamics                   36                 766   \n",
      "1  Advanced Hardware Corp.                   42                 857   \n",
      "2    Alpha Industries Ltd.                   23                 590   \n",
      "3        Core Technologies                   53                 845   \n",
      "4  Digital Innovations LLC                   42                 589   \n",
      "\n",
      "   failure_percentage  \n",
      "0            4.699739  \n",
      "1            4.900817  \n",
      "2            3.898305  \n",
      "3            6.272189  \n",
      "4            7.130730  \n"
     ]
    }
   ],
   "source": [
    "# Group by supplier_name to consolidate metrics for suppliers with multiple contacts\n",
    "df_consolidated = df_risk_analysis.groupby(\"supplier_name\", as_index=False).agg({\n",
    "    \"failed_transactions\": \"sum\",  # Sum failed transactions across all sub-locations\n",
    "    \"total_transactions\": \"sum\"   # Sum total transactions across all sub-locations\n",
    "})\n",
    "\n",
    "# Calculate failure percentage for consolidated suppliers\n",
    "df_consolidated[\"failure_percentage\"] = (\n",
    "    df_consolidated[\"failed_transactions\"] / df_consolidated[\"total_transactions\"]\n",
    ") * 100\n",
    "\n",
    "# Inspect the consolidated risk metrics\n",
    "print(\"Consolidated supplier-level risk metrics:\")\n",
    "print(df_consolidated.head())\n"
   ]
  },
  {
   "cell_type": "markdown",
   "id": "cdcbcbbc-af74-4ca4-80b1-d419f91a638b",
   "metadata": {},
   "source": [
    "### Stage 5: Assign Supplier Risk Levels\n",
    "\n",
    "In this stage, we assign suppliers to one of three risk levels—Low, Medium, or High—based on their failure percentages. This categorization helps prioritize interventions and identify suppliers requiring closer management.\n",
    "\n",
    "#### Process:\n",
    "1. Define thresholds for assigning risk levels:\n",
    "   - **Low Risk**: Failure percentage < 5%.\n",
    "   - **Medium Risk**: Failure percentage between 5% and 6% (inclusive).\n",
    "   - **High Risk**: Failure percentage > 6%.\n",
    "2. Apply risk level thresholds to classify suppliers.\n",
    "3. Inspect the categorized risk levels for enterprise suppliers."
   ]
  },
  {
   "cell_type": "code",
   "execution_count": 16,
   "id": "44e934cd-d4b9-499a-b0e0-75bc48e79370",
   "metadata": {},
   "outputs": [
    {
     "name": "stdout",
     "output_type": "stream",
     "text": [
      "Consolidated supplier-level risk analysis (ranked by failure percentage):\n",
      "                supplier_name  failed_transactions  total_transactions  \\\n",
      "4     Digital Innovations LLC                   42                 589   \n",
      "3           Core Technologies                   53                 845   \n",
      "8                 Future Tech                   37                 595   \n",
      "16  Professional Supply Chain                   34                 566   \n",
      "21     Summit Solutions Corp.                   36                 634   \n",
      "11             Mega Suppliers                   54                 978   \n",
      "7    Excel Distribution Group                   44                 807   \n",
      "5       Dynamic Systems Group                   41                 766   \n",
      "22         Tech Supplies Inc.                   38                 724   \n",
      "13         Next Level Systems                   82                1624   \n",
      "14    Precision Suppliers LLC                   52                1038   \n",
      "1     Advanced Hardware Corp.                   42                 857   \n",
      "6           Elite Electronics                   28                 577   \n",
      "15     Premier Logistics Inc.                   50                1059   \n",
      "0            Advance Dynamics                   36                 766   \n",
      "20     Strategic Partners Co.                   43                 981   \n",
      "24        Unified Trading Co.                   46                1055   \n",
      "23          Ultimate Services                   52                1225   \n",
      "18    Reliable Resources Inc.                   24                 601   \n",
      "19       Smart Solutions Ltd.                    8                 202   \n",
      "12    Modern Tech Enterprises                   47                1193   \n",
      "2       Alpha Industries Ltd.                   23                 590   \n",
      "17        Quantum Enterprises                   15                 385   \n",
      "10   Innovative Solutions Co.                   29                 758   \n",
      "9           Global Goods Ltd.                   21                 585   \n",
      "\n",
      "    failure_percentage supplier_risk_level  \n",
      "4             7.130730                High  \n",
      "3             6.272189                High  \n",
      "8             6.218487                High  \n",
      "16            6.007067                High  \n",
      "21            5.678233              Medium  \n",
      "11            5.521472              Medium  \n",
      "7             5.452292              Medium  \n",
      "5             5.352480              Medium  \n",
      "22            5.248619              Medium  \n",
      "13            5.049261              Medium  \n",
      "14            5.009634              Medium  \n",
      "1             4.900817                 Low  \n",
      "6             4.852686                 Low  \n",
      "15            4.721435                 Low  \n",
      "0             4.699739                 Low  \n",
      "20            4.383282                 Low  \n",
      "24            4.360190                 Low  \n",
      "23            4.244898                 Low  \n",
      "18            3.993344                 Low  \n",
      "19            3.960396                 Low  \n",
      "12            3.939648                 Low  \n",
      "2             3.898305                 Low  \n",
      "17            3.896104                 Low  \n",
      "10            3.825858                 Low  \n",
      "9             3.589744                 Low  \n"
     ]
    }
   ],
   "source": [
    "# Define a function to assign supplier risk levels based on thresholds\n",
    "def assign_supplier_risk_level(failure_percentage):\n",
    "    if failure_percentage > 6:\n",
    "        return \"High\"\n",
    "    elif 5 <= failure_percentage <= 6:\n",
    "        return \"Medium\"\n",
    "    else:\n",
    "        return \"Low\"\n",
    "\n",
    "# Assign risk levels to suppliers\n",
    "df_consolidated[\"supplier_risk_level\"] = df_consolidated[\"failure_percentage\"].apply(assign_supplier_risk_level)\n",
    "\n",
    "# Sort the consolidated suppliers by failure percentage in descending order\n",
    "df_consolidated = df_consolidated.sort_values(by=\"failure_percentage\", ascending=False)\n",
    "\n",
    "# Inspect all suppliers ranked by failure percentage\n",
    "print(\"Consolidated supplier-level risk analysis (ranked by failure percentage):\")\n",
    "print(df_consolidated)\n"
   ]
  },
  {
   "cell_type": "markdown",
   "id": "a77245b3-869c-4f27-af94-60afc1ae8923",
   "metadata": {},
   "source": [
    "### Stage 6: Visualize Supplier Risk Assessment\n",
    "We utilize treemap (Tableau Public) to visualize suppliers' failure percentage and their associated risk-levels."
   ]
  },
  {
   "cell_type": "markdown",
   "id": "7c7e5848-43e3-41df-966d-bd94b19c9926",
   "metadata": {},
   "source": [
    "![Heatmap](Suppler_Risk_Assessment_Treemap.png)\n",
    "\n",
    "**[View Interactive Treemap  on Tableau Public](https://public.tableau.com/views/SupplierRiskAssessment-Treemap/Sheet1?:language=en-US&publish=yes&:sid=&:redirect=auth&:display_count=n&:origin=viz_share_link)**"
   ]
  },
  {
   "cell_type": "markdown",
   "id": "d728b08f-8798-471b-91d4-342aceee00f2",
   "metadata": {},
   "source": [
    "### Stage 7: Interpretation and Recommendations\n",
    "\n",
    "In this stage, we consolidate insights from the risk analysis and provide recommendations to mitigate supplier risks, improve reliability, and streamline procurement processes.\n",
    "\n",
    "#### Key Findings:\n",
    "1. **High-Risk Suppliers**:\n",
    "   - Suppliers like *Digital Innovations LLC*, *Core Technologies*, and *Future Tech* exhibit high failure percentages (>6%).\n",
    "   - These suppliers may pose significant risks to operational stability.\n",
    "\n",
    "2. **Medium-Risk Suppliers**:\n",
    "   - Suppliers like *Summit Solutions Corp.*, *Mega Suppliers*, and *Excel Distribution Group* have moderate failure percentages (between 5% and 6%).\n",
    "   - While generally reliable, close monitoring and proactive engagement are recommended.\n",
    "\n",
    "3. **Low-Risk Suppliers**:\n",
    "   - The majority of suppliers, such as *Advance Dynamics*, *Alpha Industries Ltd.*, and *Innovative Solutions Co.*, have low failure percentages (<5%).\n",
    "   - These suppliers are suitable for stable and consistent procurement needs.\n",
    "\n",
    "#### Strategic Recommendations:\n",
    "1. **For High-Risk Suppliers**:\n",
    "   - Assess the root causes of transaction failures (e.g., logistical issues, miscommunication).\n",
    "   - Engage suppliers directly to address inefficiencies and improve performance.\n",
    "   - Consider replacing or consolidating high-risk suppliers if operational risks outweigh benefits.\n",
    "\n",
    "2. **For Medium-Risk Suppliers**:\n",
    "   - Monitor supplier performance regularly and collaborate on improvement plans.\n",
    "   - Establish contingency measures to minimize disruptions caused by failures.\n",
    "\n",
    "3. **For Low-Risk Suppliers**:\n",
    "   - Maintain steady relationships and leverage these suppliers for critical, high-priority needs.\n",
    "   - Explore opportunities for growth or additional partnerships with these reliable suppliers."
   ]
  },
  {
   "cell_type": "markdown",
   "id": "4dac62b5-21ac-4cff-8822-c40a1a675d5f",
   "metadata": {},
   "source": [
    "# Project Key Takeaways: Supplier Clustering Analysis  \n",
    "\n",
    "Through our clustering approach, we have identified meaningful **supplier groups**, allowing businesses to **optimize performance, manage spending behaviors, and mitigate risks** effectively.\n",
    "\n",
    "### 1️⃣ Supplier Performance Clusters  \n",
    "- **Insight:** Suppliers were grouped into **Low, Medium, and High Performance Clusters** based on delivery efficiency and lead time.  \n",
    "- **Business Impact:** Companies can **prioritize high-performing suppliers** and set improvement plans for lower-tier suppliers.  \n",
    "- **Actionable Recommendation:** Consider renegotiating contracts with **low-performing suppliers** or setting performance-based incentives.  \n",
    "\n",
    "### 2️⃣ Spend Behavior Segmentation  \n",
    "- **Insight:** Clusters revealed **distinct spending trends**—some suppliers receive frequent large orders, while others show sporadic transactions.  \n",
    "- **Business Impact:** Helps the finance team **optimize procurement strategies** based on supplier reliability and order frequency.  \n",
    "- **Actionable Recommendation:** Implement **dynamic pricing strategies** with suppliers who show inconsistent order patterns.  \n",
    "\n",
    "### 3️⃣ Supplier Risk Management  \n",
    "- **Insight:** High-risk suppliers were identified based on **order cancellations and delayed shipments**.  \n",
    "- **Business Impact:** Businesses can proactively **adjust supplier dependencies** to minimize operational risks.  \n",
    "- **Actionable Recommendation:** Establish a **risk monitoring framework**, prioritizing alternative suppliers for high-risk groups.  \n",
    "\n"
   ]
  },
  {
   "cell_type": "markdown",
   "id": "7bf9ae05-41dc-4b72-9630-2906a8a8f9c8",
   "metadata": {},
   "source": [
    "Exporting CSVs for Tableau"
   ]
  },
  {
   "cell_type": "code",
   "execution_count": 21,
   "id": "ccd03f77-851a-491e-b601-b14a1ef7d7b9",
   "metadata": {},
   "outputs": [
    {
     "name": "stdout",
     "output_type": "stream",
     "text": [
      "Updated Supplier Performance Segmentation dataset saved.\n",
      "Updated Spend Behavior Analysis dataset saved.\n",
      "Updated Supplier Risk Assessment dataset saved.\n"
     ]
    }
   ],
   "source": [
    "# Save updated Supplier Performance Segmentation dataset\n",
    "supplier_performance_segmentation = df_enterprise_metrics_normalized[[\n",
    "    \"supplier_name\", \"avg_lead_time\", \"total_supplier_quantity\", \"cost_variability\", \"cluster\"\n",
    "]]\n",
    "supplier_performance_segmentation.to_csv(\"supplier_performance_segmentation.csv\", index=False)\n",
    "print(\"Updated Supplier Performance Segmentation dataset saved.\")\n",
    "\n",
    "# Save updated Spend Behavior Analysis dataset\n",
    "spend_behavior_analysis = df_spend_analysis_normalized[[\n",
    "    \"supplier_name\", \"total_supplier_spend\", \"spend_frequency\", \"normalized_spend\", \"normalized_frequency\", \"spend_cluster\"\n",
    "]]\n",
    "spend_behavior_analysis.to_csv(\"spend_behavior_analysis.csv\", index=False)\n",
    "print(\"Updated Spend Behavior Analysis dataset saved.\")\n",
    "\n",
    "# Adjust Supplier Risk Assessment dataset to include valid columns\n",
    "supplier_risk_assessment = df_consolidated[[\n",
    "    \"supplier_name\", \"failure_percentage\", \"total_transactions\", \"failed_transactions\", \"supplier_risk_level\"\n",
    "]]\n",
    "supplier_risk_assessment.to_csv(\"supplier_risk_assessment.csv\", index=False)\n",
    "print(\"Updated Supplier Risk Assessment dataset saved.\")\n"
   ]
  }
 ],
 "metadata": {
  "kernelspec": {
   "display_name": "Python 3 (ipykernel)",
   "language": "python",
   "name": "python3"
  },
  "language_info": {
   "codemirror_mode": {
    "name": "ipython",
    "version": 3
   },
   "file_extension": ".py",
   "mimetype": "text/x-python",
   "name": "python",
   "nbconvert_exporter": "python",
   "pygments_lexer": "ipython3",
   "version": "3.13.2"
  }
 },
 "nbformat": 4,
 "nbformat_minor": 5
}
