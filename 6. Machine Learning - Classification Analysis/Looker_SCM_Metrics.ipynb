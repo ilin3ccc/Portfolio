{
 "cells": [
  {
   "cell_type": "markdown",
   "id": "d4e1cf29-b78c-4280-96d3-4f1c503a0dfc",
   "metadata": {},
   "source": [
    "# Looker E-Commerce - Descriptive & Prescriptive Analysis"
   ]
  },
  {
   "cell_type": "markdown",
   "id": "24ae61c4-503e-4d58-a8a4-752785c1ac0a",
   "metadata": {},
   "source": [
    "![estore](UX-Design-Trends-for-E-commerce-Websites-in-2024.jpg)"
   ]
  },
  {
   "cell_type": "markdown",
   "id": "5d70c78f-6671-4b1a-970d-ba4c095ce817",
   "metadata": {},
   "source": [
    "# Inventory Intelligence: Performance, Prioritization, and Fulfillment Optimization\n",
    "\n",
    "For this data science–driven inventory analysis, we conducted four distinct evaluations focused on SKU-level performance and supply chain efficiency:\n",
    "\n",
    "**SKU Velocity Classification**  \n",
    "Rule-based classification of SKUs into Fast, Slow, and Obsolete categories using creation and sale timestamps.  \n",
    "*Outcome*: Identification of high-priority SKUs for restocking and low-performing items for potential phase-out.\n",
    "\n",
    "**ABC Revenue Classification**  \n",
    "Cumulative revenue analysis to segment products into A, B, and C classes based on contribution to total sales.  \n",
    "*Outcome*: Strategic procurement guidance to focus on top earners and reduce excess inventory.\n",
    "\n",
    "**Delivery Timeliness Assessment**  \n",
    "Time-based analysis of shipment and delivery timestamps across product categories.  \n",
    "*Outcome*: Identification of fast and slow-moving categories to inform vendor SLAs and inventory planning.\n",
    "\n",
    "**Order Fulfillment Efficiency**  \n",
    "Measurement of internal processing speed from order placement to shipment.  \n",
    "*Outcome*: Benchmarking of enterprise-wide fulfillment lag to support workflow optimization and lead time management.\n",
    "\n",
    "We ensured alignment with enterprise objectives by consolidating analyses across ~490K SKUs and ~62K transactions, delivering a cohesive and strategic overview of inventory performance.\n",
    "\n",
    "**Dataset**: https://www.kaggle.com/datasets/mustafakeser4/looker-ecommerce-bigquery-dataset?select=order_items.csv\n",
    "\n",
    "**Composed by**: ilin3ccc.GITHUB\n"
   ]
  },
  {
   "cell_type": "markdown",
   "id": "d375d78a-54eb-49e5-a816-fff33db2a2a8",
   "metadata": {},
   "source": [
    "## 📁 Setup & Data Loading\n",
    "\n",
    "This section loads all relevant datasets used throughout the analysis. By importing inventory, product metadata, orders, and order items, we ensure full visibility across SKU movement, sales, and fulfillment."
   ]
  },
  {
   "cell_type": "code",
   "execution_count": 1,
   "id": "eb9e8262-e4b0-410c-b60f-b4f053be9c45",
   "metadata": {},
   "outputs": [
    {
     "name": "stdout",
     "output_type": "stream",
     "text": [
      "Inventory shape: (490705, 12)\n",
      "Inventory columns: ['inventory_items_id', 'product_id', 'created_at', 'sold_at', 'cost', 'product_category', 'product_name', 'product_brand', 'product_retail_price', 'product_department', 'product_sku', 'distribution_center_id']\n"
     ]
    },
    {
     "data": {
      "text/html": [
       "<div>\n",
       "<style scoped>\n",
       "    .dataframe tbody tr th:only-of-type {\n",
       "        vertical-align: middle;\n",
       "    }\n",
       "\n",
       "    .dataframe tbody tr th {\n",
       "        vertical-align: top;\n",
       "    }\n",
       "\n",
       "    .dataframe thead th {\n",
       "        text-align: right;\n",
       "    }\n",
       "</style>\n",
       "<table border=\"1\" class=\"dataframe\">\n",
       "  <thead>\n",
       "    <tr style=\"text-align: right;\">\n",
       "      <th></th>\n",
       "      <th>inventory_items_id</th>\n",
       "      <th>product_id</th>\n",
       "      <th>created_at</th>\n",
       "      <th>sold_at</th>\n",
       "      <th>cost</th>\n",
       "      <th>product_category</th>\n",
       "      <th>product_name</th>\n",
       "      <th>product_brand</th>\n",
       "      <th>product_retail_price</th>\n",
       "      <th>product_department</th>\n",
       "      <th>product_sku</th>\n",
       "      <th>distribution_center_id</th>\n",
       "    </tr>\n",
       "  </thead>\n",
       "  <tbody>\n",
       "    <tr>\n",
       "      <th>0</th>\n",
       "      <td>67971</td>\n",
       "      <td>13844</td>\n",
       "      <td>2022-07-02 07:09:20+00:00</td>\n",
       "      <td>2022-07-24 06:33:20+00:00</td>\n",
       "      <td>2.76804</td>\n",
       "      <td>Accessories</td>\n",
       "      <td>(ONE) 1 Satin Headband</td>\n",
       "      <td>Funny Girl Designs</td>\n",
       "      <td>6.99</td>\n",
       "      <td>Women</td>\n",
       "      <td>2A3E953A5E3D81E67945BCE5519F84C8</td>\n",
       "      <td>7</td>\n",
       "    </tr>\n",
       "    <tr>\n",
       "      <th>1</th>\n",
       "      <td>67972</td>\n",
       "      <td>13844</td>\n",
       "      <td>2023-12-20 03:28:00+00:00</td>\n",
       "      <td>NaN</td>\n",
       "      <td>2.76804</td>\n",
       "      <td>Accessories</td>\n",
       "      <td>(ONE) 1 Satin Headband</td>\n",
       "      <td>Funny Girl Designs</td>\n",
       "      <td>6.99</td>\n",
       "      <td>Women</td>\n",
       "      <td>2A3E953A5E3D81E67945BCE5519F84C8</td>\n",
       "      <td>7</td>\n",
       "    </tr>\n",
       "    <tr>\n",
       "      <th>2</th>\n",
       "      <td>67973</td>\n",
       "      <td>13844</td>\n",
       "      <td>2023-06-04 02:53:00+00:00</td>\n",
       "      <td>NaN</td>\n",
       "      <td>2.76804</td>\n",
       "      <td>Accessories</td>\n",
       "      <td>(ONE) 1 Satin Headband</td>\n",
       "      <td>Funny Girl Designs</td>\n",
       "      <td>6.99</td>\n",
       "      <td>Women</td>\n",
       "      <td>2A3E953A5E3D81E67945BCE5519F84C8</td>\n",
       "      <td>7</td>\n",
       "    </tr>\n",
       "    <tr>\n",
       "      <th>3</th>\n",
       "      <td>72863</td>\n",
       "      <td>13844</td>\n",
       "      <td>2021-10-16 22:58:52+00:00</td>\n",
       "      <td>2021-11-22 02:19:52+00:00</td>\n",
       "      <td>2.76804</td>\n",
       "      <td>Accessories</td>\n",
       "      <td>(ONE) 1 Satin Headband</td>\n",
       "      <td>Funny Girl Designs</td>\n",
       "      <td>6.99</td>\n",
       "      <td>Women</td>\n",
       "      <td>2A3E953A5E3D81E67945BCE5519F84C8</td>\n",
       "      <td>7</td>\n",
       "    </tr>\n",
       "    <tr>\n",
       "      <th>4</th>\n",
       "      <td>72864</td>\n",
       "      <td>13844</td>\n",
       "      <td>2021-08-07 16:33:00+00:00</td>\n",
       "      <td>NaN</td>\n",
       "      <td>2.76804</td>\n",
       "      <td>Accessories</td>\n",
       "      <td>(ONE) 1 Satin Headband</td>\n",
       "      <td>Funny Girl Designs</td>\n",
       "      <td>6.99</td>\n",
       "      <td>Women</td>\n",
       "      <td>2A3E953A5E3D81E67945BCE5519F84C8</td>\n",
       "      <td>7</td>\n",
       "    </tr>\n",
       "  </tbody>\n",
       "</table>\n",
       "</div>"
      ],
      "text/plain": [
       "   inventory_items_id  product_id                 created_at  \\\n",
       "0               67971       13844  2022-07-02 07:09:20+00:00   \n",
       "1               67972       13844  2023-12-20 03:28:00+00:00   \n",
       "2               67973       13844  2023-06-04 02:53:00+00:00   \n",
       "3               72863       13844  2021-10-16 22:58:52+00:00   \n",
       "4               72864       13844  2021-08-07 16:33:00+00:00   \n",
       "\n",
       "                     sold_at     cost product_category  \\\n",
       "0  2022-07-24 06:33:20+00:00  2.76804      Accessories   \n",
       "1                        NaN  2.76804      Accessories   \n",
       "2                        NaN  2.76804      Accessories   \n",
       "3  2021-11-22 02:19:52+00:00  2.76804      Accessories   \n",
       "4                        NaN  2.76804      Accessories   \n",
       "\n",
       "             product_name       product_brand  product_retail_price  \\\n",
       "0  (ONE) 1 Satin Headband  Funny Girl Designs                  6.99   \n",
       "1  (ONE) 1 Satin Headband  Funny Girl Designs                  6.99   \n",
       "2  (ONE) 1 Satin Headband  Funny Girl Designs                  6.99   \n",
       "3  (ONE) 1 Satin Headband  Funny Girl Designs                  6.99   \n",
       "4  (ONE) 1 Satin Headband  Funny Girl Designs                  6.99   \n",
       "\n",
       "  product_department                       product_sku  distribution_center_id  \n",
       "0              Women  2A3E953A5E3D81E67945BCE5519F84C8                       7  \n",
       "1              Women  2A3E953A5E3D81E67945BCE5519F84C8                       7  \n",
       "2              Women  2A3E953A5E3D81E67945BCE5519F84C8                       7  \n",
       "3              Women  2A3E953A5E3D81E67945BCE5519F84C8                       7  \n",
       "4              Women  2A3E953A5E3D81E67945BCE5519F84C8                       7  "
      ]
     },
     "execution_count": 1,
     "metadata": {},
     "output_type": "execute_result"
    }
   ],
   "source": [
    "import pandas as pd\n",
    "\n",
    "# Load all datasets\n",
    "df_inventory = pd.read_csv(\"inventory_items.csv\")\n",
    "df_products = pd.read_csv(\"products.csv\")\n",
    "df_orders = pd.read_csv(\"orders.csv\")\n",
    "df_order_items = pd.read_csv(\"order_items.csv\")\n",
    "\n",
    "# Quick peek\n",
    "print(\"Inventory shape:\", df_inventory.shape)\n",
    "print(\"Inventory columns:\", df_inventory.columns.tolist())\n",
    "df_inventory.head()"
   ]
  },
  {
   "cell_type": "markdown",
   "id": "93b618d5-5e9a-4a09-b2e4-6691ab2912c9",
   "metadata": {},
   "source": [
    "# SKU Velocity Classification"
   ]
  },
  {
   "cell_type": "markdown",
   "id": "5edf42d0-9253-49c1-bb4d-3bddbb200027",
   "metadata": {
    "jp-MarkdownHeadingCollapsed": true
   },
   "source": [
    "## 🏷️ Section 1: Velocity Feature Engineering\n",
    "\n",
    "This section creates movement-based features to understand how quickly inventory items are selling. By calculating the time between item creation and sale, and tracking how long items have been sitting unsold, we lay the foundation for classifying SKUs into Fast, Slow, or Obsolete categories.\n"
   ]
  },
  {
   "cell_type": "code",
   "execution_count": 2,
   "id": "381fc2f5-bcd4-4a0f-827a-5234e4e10c4c",
   "metadata": {},
   "outputs": [],
   "source": [
    "from datetime import datetime, timezone\n",
    "\n",
    "# Get current UTC timestamp\n",
    "today = pd.Timestamp(datetime.now(timezone.utc))\n",
    "\n",
    "# Convert timestamps using format='mixed' to handle ISO 8601 with microseconds and timezone\n",
    "df_inventory[\"created_at\"] = pd.to_datetime(df_inventory[\"created_at\"], format=\"mixed\")\n",
    "df_inventory[\"sold_at\"] = pd.to_datetime(df_inventory[\"sold_at\"], format=\"mixed\")\n",
    "\n",
    "# Calculate movement time (days between creation and sale)\n",
    "df_inventory[\"movement_time\"] = (\n",
    "    df_inventory[\"sold_at\"] - df_inventory[\"created_at\"]\n",
    ").dt.days\n",
    "\n",
    "# Days since last sale (if sold)\n",
    "df_inventory[\"days_since_sale\"] = df_inventory[\"sold_at\"].apply(\n",
    "    lambda x: (today - x).days if pd.notnull(x) else None\n",
    ")\n",
    "\n",
    "# Days since item was added to inventory\n",
    "df_inventory[\"days_since_creation\"] = (today - df_inventory[\"created_at\"]).dt.days\n"
   ]
  },
  {
   "cell_type": "markdown",
   "id": "917b6634-3054-4224-9adb-deb94abf8e4a",
   "metadata": {},
   "source": [
    "## 🧠 Section 2: SKU Classification\n",
    "\n",
    "This section assigns each inventory item a velocity label—**Fast**, **Slow**, or **Obsolete**—based on how quickly it moves through the system. Items sold quickly are labeled Fast, those with moderate movement are Slow, and stagnant or unsold items are marked Obsolete.\n"
   ]
  },
  {
   "cell_type": "code",
   "execution_count": 3,
   "id": "2bb62525-0ad2-462f-b740-a4a1ce2b196b",
   "metadata": {},
   "outputs": [],
   "source": [
    "def classify_sku(row):\n",
    "    # If item has been sold\n",
    "    if pd.notnull(row[\"sold_at\"]):\n",
    "        if row[\"movement_time\"] <= 30:\n",
    "            return \"Fast\"\n",
    "        elif row[\"movement_time\"] <= 90:\n",
    "            return \"Slow\"\n",
    "        else:\n",
    "            return \"Obsolete\"\n",
    "    else:\n",
    "        # Unsold items: classify based on how long they've been sitting\n",
    "        if row[\"days_since_creation\"] > 180:\n",
    "            return \"Obsolete\"\n",
    "        elif row[\"days_since_creation\"] > 90:\n",
    "            return \"Slow\"\n",
    "        else:\n",
    "            return \"Fast\"\n",
    "\n",
    "df_inventory[\"velocity_label\"] = df_inventory.apply(classify_sku, axis=1)\n"
   ]
  },
  {
   "cell_type": "markdown",
   "id": "34a7252c-dba8-46dc-8755-fe324c634350",
   "metadata": {},
   "source": [
    "## 📊 Section 3: Velocity Label Distribution\n",
    "\n",
    "This chart shows how your inventory is classified, helping you spot trends in product movement and identify potential bottlenecks or overstocked items.\n"
   ]
  },
  {
   "cell_type": "code",
   "execution_count": 4,
   "id": "54122dfc-b664-4f40-b77d-6dac4ce251a1",
   "metadata": {},
   "outputs": [
    {
     "data": {
      "image/png": "[encoded data removed]",
      "text/plain": [
       "<Figure size 600x400 with 1 Axes>"
      ]
     },
     "metadata": {},
     "output_type": "display_data"
    }
   ],
   "source": [
    "import matplotlib.pyplot as plt\n",
    "\n",
    "# Count labels\n",
    "label_counts = df_inventory[\"velocity_label\"].value_counts()\n",
    "\n",
    "# Plot\n",
    "plt.figure(figsize=(6, 4))\n",
    "label_counts.plot(kind=\"bar\", color=[\"green\", \"orange\", \"red\"])\n",
    "plt.title(\"SKU Velocity Classification\")\n",
    "plt.xlabel(\"Velocity Label\")\n",
    "plt.ylabel(\"Number of SKUs\")\n",
    "plt.xticks(rotation=0)\n",
    "plt.grid(axis=\"y\", linestyle=\"--\", alpha=0.7)\n",
    "plt.tight_layout()\n",
    "plt.show()\n"
   ]
  },
  {
   "cell_type": "markdown",
   "id": "c0160d28-7b90-43fb-a3a8-65d1f566e419",
   "metadata": {},
   "source": [
    "## 🧮 Section 4: Inventory Optimization Strategy\n",
    "\n",
    "This section translates velocity labels into strategic inventory actions. By mapping each SKU to a recommended treatment—restock, monitor, or phase out—we support smarter procurement and warehouse decisions.\n",
    "\n",
    "Restock Priority → Fast movers that need replenishment\n",
    "\n",
    "Monitor → Slow movers that may be seasonal or niche\n",
    "\n",
    "Phase Out → Obsolete SKUs that tie up space and capital\n"
   ]
  },
  {
   "cell_type": "code",
   "execution_count": 5,
   "id": "af7f52eb-ee94-4205-8e5d-b74ddf2d984d",
   "metadata": {
    "scrolled": true
   },
   "outputs": [
    {
     "name": "stdout",
     "output_type": "stream",
     "text": [
      "📦 Inventory Action Summary:\n",
      "inventory_action\n",
      "Phase Out           308946\n",
      "Restock Priority     94168\n",
      "Monitor              87591\n",
      "Name: count, dtype: int64\n"
     ]
    }
   ],
   "source": [
    "def inventory_action(label):\n",
    "    if label == \"Fast\":\n",
    "        return \"Restock Priority\"\n",
    "    elif label == \"Slow\":\n",
    "        return \"Monitor\"\n",
    "    elif label == \"Obsolete\":\n",
    "        return \"Phase Out\"\n",
    "    else:\n",
    "        return \"Review\"\n",
    "\n",
    "df_inventory[\"inventory_action\"] = df_inventory[\"velocity_label\"].apply(inventory_action)\n",
    "\n",
    "# Preview action distribution\n",
    "action_counts = df_inventory[\"inventory_action\"].value_counts()\n",
    "print(\"📦 Inventory Action Summary:\")\n",
    "print(action_counts)\n"
   ]
  },
  {
   "cell_type": "markdown",
   "id": "15fbd02b-3822-4040-a949-7a09f4e08334",
   "metadata": {},
   "source": [
    "# 💰 ABC Revenue Classification Analysis\n",
    "\n",
    "This analysis segments SKUs based on their contribution to total revenue, helping prioritize inventory decisions. We’ll break it down into clear steps, starting with Section 1.\n"
   ]
  },
  {
   "cell_type": "markdown",
   "id": "59c42bbf-c166-4372-b248-00e74714a7f9",
   "metadata": {},
   "source": [
    "## 📊 Section 1: Revenue-Based Ranking & Cumulative Contribution\n",
    "\n",
    "We begin by ranking SKUs by revenue and calculating their cumulative contribution to total revenue. This sets the stage for ABC segmentation.\n"
   ]
  },
  {
   "cell_type": "code",
   "execution_count": 10,
   "id": "98915011-5136-43c0-8dbe-a1892092f86d",
   "metadata": {},
   "outputs": [
    {
     "name": "stdout",
     "output_type": "stream",
     "text": [
      "                             product_sku  estimated_revenue  \\\n",
      "225986  A697AB0DCF803186970E7BB5ED0909FB           1.709845   \n",
      "220061  8F2964FEECE20703C6AC571342060991           1.643599   \n",
      "342574  5D147304859C2C8752CF5DEDB4B50D49           1.567708   \n",
      "222994  07E99F116B916656B3FD4F7DD58A3CBE           1.564991   \n",
      "223081  0EC52F9EC87486DFA654D766EB6979F7           1.562284   \n",
      "\n",
      "        cumulative_revenue_pct  \n",
      "225986                0.014107  \n",
      "220061                0.027668  \n",
      "342574                0.040603  \n",
      "222994                0.053516  \n",
      "223081                0.066406  \n"
     ]
    }
   ],
   "source": [
    "# ✅ Estimate revenue using retail price × recency score\n",
    "# Avoid division by zero by adding 1 to days_since_sale\n",
    "df_inventory[\"recency_score\"] = 1 / (df_inventory[\"days_since_sale\"] + 1)\n",
    "\n",
    "# Estimate revenue\n",
    "df_inventory[\"estimated_revenue\"] = df_inventory[\"product_retail_price\"] * df_inventory[\"recency_score\"]\n",
    "\n",
    "# ✅ Sort SKUs by estimated revenue\n",
    "df_inventory = df_inventory.sort_values(by=\"estimated_revenue\", ascending=False)\n",
    "\n",
    "# ✅ Calculate cumulative revenue percentage\n",
    "df_inventory[\"cumulative_revenue_pct\"] = (\n",
    "    df_inventory[\"estimated_revenue\"].cumsum() / df_inventory[\"estimated_revenue\"].sum() * 100\n",
    ")\n",
    "\n",
    "# ✅ Preview top SKUs\n",
    "print(df_inventory[[\"product_sku\", \"estimated_revenue\", \"cumulative_revenue_pct\"]].head())\n"
   ]
  },
  {
   "cell_type": "markdown",
   "id": "96caa76c-8aab-4c0b-bafd-0a1dc8dcc81b",
   "metadata": {},
   "source": [
    "## 🧮 Section 2: ABC Classification Logic\n",
    "\n",
    "Now that we’ve calculated cumulative revenue contribution, we’ll assign each SKU an ABC label:\n",
    "\n",
    "- **A-items**: Top 80% of revenue (critical)\n",
    "- **B-items**: Next 15% (important)\n",
    "- **C-items**: Bottom 5% (low priority)\n",
    "\n",
    "This segmentation helps focus inventory decisions on the most impactful products.\n"
   ]
  },
  {
   "cell_type": "code",
   "execution_count": 13,
   "id": "c4d4d2a2-5b6c-415f-9377-60a3babba3c3",
   "metadata": {},
   "outputs": [
    {
     "name": "stdout",
     "output_type": "stream",
     "text": [
      "📊 ABC Classification Summary:\n",
      "abc_class\n",
      "C    351797\n",
      "A     84161\n",
      "B     54747\n",
      "Name: count, dtype: int64\n",
      "                             product_sku  estimated_revenue  \\\n",
      "225986  A697AB0DCF803186970E7BB5ED0909FB           1.709845   \n",
      "220061  8F2964FEECE20703C6AC571342060991           1.643599   \n",
      "342574  5D147304859C2C8752CF5DEDB4B50D49           1.567708   \n",
      "222994  07E99F116B916656B3FD4F7DD58A3CBE           1.564991   \n",
      "223081  0EC52F9EC87486DFA654D766EB6979F7           1.562284   \n",
      "\n",
      "        cumulative_revenue_pct abc_class  \n",
      "225986                0.014107         A  \n",
      "220061                0.027668         A  \n",
      "342574                0.040603         A  \n",
      "222994                0.053516         A  \n",
      "223081                0.066406         A  \n"
     ]
    }
   ],
   "source": [
    "# ✅ Define ABC classification logic\n",
    "def classify_abc(pct):\n",
    "    if pct <= 80:\n",
    "        return \"A\"\n",
    "    elif pct <= 95:\n",
    "        return \"B\"\n",
    "    else:\n",
    "        return \"C\"\n",
    "\n",
    "# ✅ Apply classification\n",
    "df_inventory[\"abc_class\"] = df_inventory[\"cumulative_revenue_pct\"].apply(classify_abc)\n",
    "\n",
    "# ✅ Summary of ABC distribution\n",
    "abc_counts = df_inventory[\"abc_class\"].value_counts()\n",
    "print(\"📊 ABC Classification Summary:\")\n",
    "print(abc_counts)\n",
    "\n",
    "# ✅ Preview sample output\n",
    "print(df_inventory[[\"product_sku\", \"estimated_revenue\", \"cumulative_revenue_pct\", \"abc_class\"]].head())\n"
   ]
  },
  {
   "cell_type": "markdown",
   "id": "160658d2-55a2-4361-b5ec-0837ecfb569c",
   "metadata": {},
   "source": [
    "## 🔀 Section 3: ABC-Velocity Strategy Matrix\n",
    "\n",
    "By combining ABC revenue classification with velocity labels, we create a 3×3 matrix that guides inventory decisions across both value and movement.\n",
    "\n",
    "This helps answer questions like:\n",
    "- Which high-revenue items are moving fast (A-Fast)?\n",
    "- Which low-revenue items are obsolete (C-Obsolete)?\n",
    "- Which moderate items need monitoring (B-Slow)?\n"
   ]
  },
  {
   "cell_type": "code",
   "execution_count": 14,
   "id": "2e375a88-a740-4991-820b-f4fa6daabdac",
   "metadata": {},
   "outputs": [
    {
     "name": "stdout",
     "output_type": "stream",
     "text": [
      "📦 ABC-Velocity Strategy Matrix Summary:\n",
      "abc_velocity_combo\n",
      "C-Obsolete    308946\n",
      "A-Fast         43573\n",
      "A-Slow         40588\n",
      "B-Fast         28522\n",
      "B-Slow         26225\n",
      "C-Fast         22073\n",
      "C-Slow         20778\n",
      "Name: count, dtype: int64\n",
      "                             product_sku abc_class velocity_label  \\\n",
      "225986  A697AB0DCF803186970E7BB5ED0909FB         A           Slow   \n",
      "220061  8F2964FEECE20703C6AC571342060991         A           Fast   \n",
      "342574  5D147304859C2C8752CF5DEDB4B50D49         A           Slow   \n",
      "222994  07E99F116B916656B3FD4F7DD58A3CBE         A           Slow   \n",
      "223081  0EC52F9EC87486DFA654D766EB6979F7         A           Fast   \n",
      "\n",
      "       abc_velocity_combo  \n",
      "225986             A-Slow  \n",
      "220061             A-Fast  \n",
      "342574             A-Slow  \n",
      "222994             A-Slow  \n",
      "223081             A-Fast  \n"
     ]
    }
   ],
   "source": [
    "# ✅ Combine ABC class with velocity label\n",
    "df_inventory[\"abc_velocity_combo\"] = df_inventory[\"abc_class\"] + \"-\" + df_inventory[\"velocity_label\"]\n",
    "\n",
    "# ✅ Summary of combinations\n",
    "combo_counts = df_inventory[\"abc_velocity_combo\"].value_counts()\n",
    "print(\"📦 ABC-Velocity Strategy Matrix Summary:\")\n",
    "print(combo_counts)\n",
    "\n",
    "# ✅ Preview sample combinations\n",
    "print(df_inventory[[\"product_sku\", \"abc_class\", \"velocity_label\", \"abc_velocity_combo\"]].head())\n"
   ]
  },
  {
   "cell_type": "markdown",
   "id": "f5e75492-4fe1-4395-820b-092e71faa5b5",
   "metadata": {},
   "source": [
    "## ✅ Section 4: Strategic Takeaways\n",
    "\n",
    "This ABC-Velocity matrix transforms raw inventory data into actionable strategy. By combining revenue impact with movement speed, we unlock smarter decisions across procurement, stocking, and liquidation.\n",
    "\n",
    "**Key Priorities:**\n",
    "- 🟢 **A-Fast** → High-value, fast-moving → *Restock aggressively and promote*\n",
    "- 🔴 **C-Obsolete** → Low-value, stagnant → *Phase out, bundle, or discount*\n",
    "- 🟡 **B-Slow** → Mid-value, slow-moving → *Monitor closely or investigate root causes*\n",
    "\n",
    "This dual-axis classification empowers targeted interventions and aligns inventory decisions with business impact.\n"
   ]
  },
  {
   "cell_type": "markdown",
   "id": "4e3ef33e-2365-4210-9ab2-ca0bdf76ac89",
   "metadata": {},
   "source": [
    "## 🚚 Delivery Timeliness Analysis (Enterprise-Wide)\n",
    "Analyzes delivery speed by calculating the number of days between shipment and delivery for each order. After merging order and inventory data to enrich with product categories, we compute overall delivery time metrics and break them down by category. This helps identify which product lines are consistently fast—or slow—in reaching customers.\n"
   ]
  },
  {
   "cell_type": "code",
   "execution_count": 16,
   "id": "3a1a408c-0552-4195-84ff-9aa7d3207ef8",
   "metadata": {},
   "outputs": [
    {
     "name": "stdout",
     "output_type": "stream",
     "text": [
      "📦 Overall Delivery Time Summary:\n",
      "average_days        2.01\n",
      "median_days         2.00\n",
      "max_days            4.00\n",
      "min_days            0.00\n",
      "count           62286.00\n",
      "Name: delivery_days, dtype: float64\n",
      "\n",
      "📊 Delivery Time by Product Category:\n",
      "                               average_days  median_days  max_days  min_days  \\\n",
      "product_category                                                               \n",
      "Clothing Sets                          1.81          1.0       4.0       0.0   \n",
      "Fashion Hoodies & Sweatshirts          1.97          2.0       4.0       0.0   \n",
      "Blazers & Jackets                      1.98          2.0       4.0       0.0   \n",
      "Sweaters                               1.98          2.0       4.0       0.0   \n",
      "Intimates                              1.99          2.0       4.0       0.0   \n",
      "Leggings                               1.99          2.0       4.0       0.0   \n",
      "Shorts                                 1.99          2.0       4.0       0.0   \n",
      "Dresses                                1.99          2.0       4.0       0.0   \n",
      "Underwear                              1.99          2.0       4.0       0.0   \n",
      "Socks                                  2.00          2.0       4.0       0.0   \n",
      "Sleep & Lounge                         2.00          2.0       4.0       0.0   \n",
      "Plus                                   2.00          2.0       4.0       0.0   \n",
      "Socks & Hosiery                        2.01          2.0       4.0       0.0   \n",
      "Pants                                  2.02          2.0       4.0       0.0   \n",
      "Suits                                  2.02          2.0       4.0       0.0   \n",
      "Tops & Tees                            2.02          2.0       4.0       0.0   \n",
      "Active                                 2.03          2.0       4.0       0.0   \n",
      "Accessories                            2.04          2.0       4.0       0.0   \n",
      "Swim                                   2.04          2.0       4.0       0.0   \n",
      "Suits & Sport Coats                    2.04          2.0       4.0       0.0   \n",
      "Jeans                                  2.05          2.0       4.0       0.0   \n",
      "Skirts                                 2.05          2.0       4.0       0.0   \n",
      "Pants & Capris                         2.05          2.0       4.0       0.0   \n",
      "Outerwear & Coats                      2.05          2.0       4.0       0.0   \n",
      "Jumpsuits & Rompers                    2.07          2.0       4.0       0.0   \n",
      "Maternity                              2.07          2.0       4.0       0.0   \n",
      "\n",
      "                               count  \n",
      "product_category                      \n",
      "Clothing Sets                     63  \n",
      "Fashion Hoodies & Sweatshirts   4040  \n",
      "Blazers & Jackets               1060  \n",
      "Sweaters                        3843  \n",
      "Intimates                       4610  \n",
      "Leggings                        1098  \n",
      "Shorts                          3817  \n",
      "Dresses                         1848  \n",
      "Underwear                       2620  \n",
      "Socks                           2181  \n",
      "Sleep & Lounge                  3798  \n",
      "Plus                            1517  \n",
      "Socks & Hosiery                 1271  \n",
      "Pants                           2603  \n",
      "Suits                            348  \n",
      "Tops & Tees                     4038  \n",
      "Active                          3194  \n",
      "Accessories                     3315  \n",
      "Swim                            3894  \n",
      "Suits & Sport Coats             1735  \n",
      "Jeans                           4267  \n",
      "Skirts                           740  \n",
      "Pants & Capris                  1174  \n",
      "Outerwear & Coats               3131  \n",
      "Jumpsuits & Rompers              348  \n",
      "Maternity                       1733  \n"
     ]
    }
   ],
   "source": [
    "import pandas as pd\n",
    "\n",
    "# Load datasets\n",
    "df_order_items = pd.read_csv(\"order_items.csv\")\n",
    "df_inventory = pd.read_csv(\"inventory_items.csv\")\n",
    "\n",
    "# Merge order items with inventory to get product_category\n",
    "df_merged = pd.merge(\n",
    "    df_order_items,\n",
    "    df_inventory[[\"inventory_items_id\", \"product_category\"]],\n",
    "    left_on=\"inventory_item_id\",\n",
    "    right_on=\"inventory_items_id\",\n",
    "    how=\"left\"\n",
    ")\n",
    "\n",
    "# Convert timestamps\n",
    "df_merged[\"shipped_at\"] = pd.to_datetime(df_merged[\"shipped_at\"], errors=\"coerce\")\n",
    "df_merged[\"delivered_at\"] = pd.to_datetime(df_merged[\"delivered_at\"], errors=\"coerce\")\n",
    "\n",
    "# Calculate delivery duration\n",
    "df_merged[\"delivery_days\"] = (df_merged[\"delivered_at\"] - df_merged[\"shipped_at\"]).dt.days\n",
    "df_merged = df_merged[df_merged[\"delivery_days\"] >= 0]  # Filter out invalids\n",
    "\n",
    "# Overall delivery summary\n",
    "overall_summary = df_merged[\"delivery_days\"].agg(\n",
    "    average_days=\"mean\",\n",
    "    median_days=\"median\",\n",
    "    max_days=\"max\",\n",
    "    min_days=\"min\",\n",
    "    count=\"count\"\n",
    ").round(2)\n",
    "\n",
    "# Category-level delivery summary\n",
    "category_summary = (\n",
    "    df_merged.groupby(\"product_category\")[\"delivery_days\"]\n",
    "    .agg(\n",
    "        average_days=\"mean\",\n",
    "        median_days=\"median\",\n",
    "        max_days=\"max\",\n",
    "        min_days=\"min\",\n",
    "        count=\"count\"\n",
    "    )\n",
    "    .round(2)\n",
    "    .sort_values(\"average_days\")\n",
    ")\n",
    "\n",
    "# Display results\n",
    "print(\"📦 Overall Delivery Time Summary:\")\n",
    "print(overall_summary)\n",
    "print(\"\\n📊 Delivery Time by Product Category:\")\n",
    "print(category_summary)\n"
   ]
  },
  {
   "cell_type": "markdown",
   "id": "bb402a31-0444-48f5-aadf-53fad692ccf4",
   "metadata": {},
   "source": [
    "# Order Processing Time Analysis\n",
    "This module measures the internal time it takes to process an order—from placement to shipment—before it reaches the carrier. By calculating enterprise-wide averages and filtering out invalid records, we assess fulfillment speed and identify opportunities to streamline operations."
   ]
  },
  {
   "cell_type": "code",
   "execution_count": 17,
   "id": "b1e4a84c-a9f5-4955-b0da-b0dfd28fc70d",
   "metadata": {},
   "outputs": [
    {
     "name": "stdout",
     "output_type": "stream",
     "text": [
      "✅ Timestamps successfully converted using mixed format.\n"
     ]
    }
   ],
   "source": [
    "import pandas as pd\n",
    "\n",
    "# Load the dataset\n",
    "df_order_items = pd.read_csv(\"order_items.csv\")\n",
    "\n",
    "# Convert timestamps using format='mixed' to handle ISO 8601 with microseconds and timezone\n",
    "df_order_items[\"created_at\"] = pd.to_datetime(df_order_items[\"created_at\"], format=\"mixed\")\n",
    "df_order_items[\"shipped_at\"] = pd.to_datetime(df_order_items[\"shipped_at\"], format=\"mixed\")\n",
    "\n",
    "print(\"✅ Timestamps successfully converted using mixed format.\")"
   ]
  },
  {
   "cell_type": "code",
   "execution_count": 18,
   "id": "f5fe4cf8-ab77-4b75-900b-9eabb51e9a7a",
   "metadata": {},
   "outputs": [
    {
     "name": "stdout",
     "output_type": "stream",
     "text": [
      "🏁 Enterprise-Wide Average Order Processing Time: 34.94 hours\n"
     ]
    }
   ],
   "source": [
    "# Calculate processing time in hours\n",
    "df_order_items[\"processing_time_hours\"] = (df_order_items[\"shipped_at\"] - df_order_items[\"created_at\"]).dt.total_seconds() / 3600\n",
    "\n",
    "# Drop rows with missing or negative processing times (if any)\n",
    "df_valid = df_order_items[df_order_items[\"processing_time_hours\"] > 0]\n",
    "\n",
    "# Compute the enterprise-wide average\n",
    "average_processing_time = df_valid[\"processing_time_hours\"].mean()\n",
    "\n",
    "print(f\"🏁 Enterprise-Wide Average Order Processing Time: {average_processing_time:.2f} hours\")\n"
   ]
  },
  {
   "cell_type": "markdown",
   "id": "6f2ef48c-d0be-43e0-be27-dfb4c4832f91",
   "metadata": {},
   "source": [
    "## 📦 Enterprise-Wide Order Processing Time Analysis\n",
    "\n",
    "**Average Processing Time:**  \n",
    "Approximately **34.94 hours** from order placement (`created_at`) to shipment (`shipped_at`).\n",
    "\n",
    "---\n",
    "\n",
    "### 🔍 Key Insights\n",
    "\n",
    "- **Metric Purpose:** Measures internal order fulfillment speed before carrier involvement.\n",
    "- **Operational Impact:**  \n",
    "  - Reflects efficiency of warehouse and order management systems  \n",
    "  - Influences inventory turnover and customer satisfaction  \n",
    "  - Identifies opportunities for automation and workflow optimization\n",
    "\n",
    "---\n",
    "\n",
    "### 🛠️ Supply Chain & Procurement Applications\n",
    "\n",
    "- **Lead Time Management:** Informs supplier SLAs and procurement planning  \n",
    "- **Inventory Strategy:** Supports lean inventory and just-in-time models  \n",
    "- **Continuous Improvement:** Enables data-driven decisions to reduce delays and streamline operations"
   ]
  },
  {
   "cell_type": "markdown",
   "id": "4535c0d9-0b66-437e-ae91-9898530755f6",
   "metadata": {},
   "source": [
    "### 📈 Summary & Next Steps\n",
    "The average processing time of 34.94 hours highlights a solid baseline for internal fulfillment speed. To improve efficiency, consider evaluating bottlenecks in warehouse operations and exploring automation opportunities. This metric can also inform supplier negotiations and inventory planning to better align with business goals.\n"
   ]
  }
 ],
 "metadata": {
  "kernelspec": {
   "display_name": "Python 3 (ipykernel)",
   "language": "python",
   "name": "python3"
  },
  "language_info": {
   "codemirror_mode": {
    "name": "ipython",
    "version": 3
   },
   "file_extension": ".py",
   "mimetype": "text/x-python",
   "name": "python",
   "nbconvert_exporter": "python",
   "pygments_lexer": "ipython3",
   "version": "3.13.2"
  }
 },
 "nbformat": 4,
 "nbformat_minor": 5
}
